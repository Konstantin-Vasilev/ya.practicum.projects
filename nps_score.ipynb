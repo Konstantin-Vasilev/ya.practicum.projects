{
 "cells": [
  {
   "cell_type": "code",
   "execution_count": 1,
   "id": "d04d1aa2",
   "metadata": {
    "tags": [
     "aa81075c-062f-4de0-b5fe-14c73dc7468e"
    ]
   },
   "outputs": [],
   "source": [
    "import pandas as pd\n",
    "import numpy as np\n",
    "\n",
    "from sqlalchemy import create_engine"
   ]
  },
  {
   "cell_type": "code",
   "execution_count": 2,
   "id": "6d9eed20",
   "metadata": {},
   "outputs": [],
   "source": [
    "path_to_db = 'telecomm_csi.db'\n",
    "engine = create_engine(f'sqlite:///{path_to_db}', echo = False)"
   ]
  },
  {
   "cell_type": "code",
   "execution_count": 3,
   "id": "fc2f07d2",
   "metadata": {},
   "outputs": [],
   "source": [
    "query = \"\"\"\n",
    "SELECT u.user_id,\n",
    "       u.lt_day,\n",
    "       CASE\n",
    "           WHEN u.lt_day <= 365 THEN 'new'\n",
    "           ELSE 'old'\n",
    "       END AS is_new,\n",
    "       u.age,\n",
    "       CASE\n",
    "           WHEN u.gender_segment == 1 THEN 'female'\n",
    "           WHEN u.gender_segment == 0 THEN 'male'\n",
    "           ELSE 'n/a'\n",
    "       END AS gender_segment,\n",
    "       u.os_name,\n",
    "       u.cpe_type_name,\n",
    "       l.country,\n",
    "       l.city,\n",
    "       a_s.title AS age_segment,\n",
    "       t_s.title AS traffic_segment,\n",
    "       l_s.title AS lifetime_segment,\n",
    "       u.nps_score,\n",
    "       CASE\n",
    "           WHEN u.nps_score <= 6 THEN 'detractors'\n",
    "           WHEN u.nps_score > 6 AND u.nps_score <= 8 THEN 'passives'\n",
    "           WHEN u.nps_score > 8 AND u.nps_score <= 10 THEN 'promoters'\n",
    "       END AS nps_group\n",
    "       \n",
    "FROM location AS l\n",
    "JOIN user AS u ON l.location_id = u.location_id\n",
    "JOIN age_segment AS a_s ON u.age_gr_id = a_s.age_gr_id\n",
    "JOIN traffic_segment AS t_s ON u.tr_gr_id = t_s.tr_gr_id\n",
    "JOIN lifetime_segment AS l_s ON u.lt_gr_id = l_s.lt_gr_id\n",
    "\"\"\""
   ]
  },
  {
   "cell_type": "code",
   "execution_count": 4,
   "id": "58139383",
   "metadata": {},
   "outputs": [
    {
     "data": {
      "text/html": [
       "<div>\n",
       "<style scoped>\n",
       "    .dataframe tbody tr th:only-of-type {\n",
       "        vertical-align: middle;\n",
       "    }\n",
       "\n",
       "    .dataframe tbody tr th {\n",
       "        vertical-align: top;\n",
       "    }\n",
       "\n",
       "    .dataframe thead th {\n",
       "        text-align: right;\n",
       "    }\n",
       "</style>\n",
       "<table border=\"1\" class=\"dataframe\">\n",
       "  <thead>\n",
       "    <tr style=\"text-align: right;\">\n",
       "      <th></th>\n",
       "      <th>user_id</th>\n",
       "      <th>lt_day</th>\n",
       "      <th>is_new</th>\n",
       "      <th>age</th>\n",
       "      <th>gender_segment</th>\n",
       "      <th>os_name</th>\n",
       "      <th>cpe_type_name</th>\n",
       "      <th>country</th>\n",
       "      <th>city</th>\n",
       "      <th>age_segment</th>\n",
       "      <th>traffic_segment</th>\n",
       "      <th>lifetime_segment</th>\n",
       "      <th>nps_score</th>\n",
       "      <th>nps_group</th>\n",
       "    </tr>\n",
       "  </thead>\n",
       "  <tbody>\n",
       "    <tr>\n",
       "      <th>0</th>\n",
       "      <td>A0CMN5</td>\n",
       "      <td>2729</td>\n",
       "      <td>old</td>\n",
       "      <td>27.0</td>\n",
       "      <td>male</td>\n",
       "      <td>ANDROID</td>\n",
       "      <td>SMARTPHONE</td>\n",
       "      <td>Россия</td>\n",
       "      <td>Архангельск</td>\n",
       "      <td>03 25-34</td>\n",
       "      <td>16 60-65</td>\n",
       "      <td>08 36+</td>\n",
       "      <td>6</td>\n",
       "      <td>detractors</td>\n",
       "    </tr>\n",
       "    <tr>\n",
       "      <th>1</th>\n",
       "      <td>A0CYVK</td>\n",
       "      <td>478</td>\n",
       "      <td>old</td>\n",
       "      <td>48.0</td>\n",
       "      <td>female</td>\n",
       "      <td>ANDROID</td>\n",
       "      <td>SMARTPHONE</td>\n",
       "      <td>Россия</td>\n",
       "      <td>Архангельск</td>\n",
       "      <td>05 45-54</td>\n",
       "      <td>06 10-15</td>\n",
       "      <td>06 13-24</td>\n",
       "      <td>7</td>\n",
       "      <td>passives</td>\n",
       "    </tr>\n",
       "    <tr>\n",
       "      <th>2</th>\n",
       "      <td>A0HNQU</td>\n",
       "      <td>413</td>\n",
       "      <td>old</td>\n",
       "      <td>42.0</td>\n",
       "      <td>female</td>\n",
       "      <td>ANDROID</td>\n",
       "      <td>SMARTPHONE</td>\n",
       "      <td>Россия</td>\n",
       "      <td>Архангельск</td>\n",
       "      <td>04 35-44</td>\n",
       "      <td>08 20-25</td>\n",
       "      <td>06 13-24</td>\n",
       "      <td>9</td>\n",
       "      <td>promoters</td>\n",
       "    </tr>\n",
       "  </tbody>\n",
       "</table>\n",
       "</div>"
      ],
      "text/plain": [
       "  user_id  lt_day is_new   age gender_segment  os_name cpe_type_name country  \\\n",
       "0  A0CMN5    2729    old  27.0           male  ANDROID    SMARTPHONE  Россия   \n",
       "1  A0CYVK     478    old  48.0         female  ANDROID    SMARTPHONE  Россия   \n",
       "2  A0HNQU     413    old  42.0         female  ANDROID    SMARTPHONE  Россия   \n",
       "\n",
       "          city age_segment traffic_segment lifetime_segment  nps_score  \\\n",
       "0  Архангельск    03 25-34        16 60-65           08 36+          6   \n",
       "1  Архангельск    05 45-54        06 10-15         06 13-24          7   \n",
       "2  Архангельск    04 35-44        08 20-25         06 13-24          9   \n",
       "\n",
       "    nps_group  \n",
       "0  detractors  \n",
       "1    passives  \n",
       "2   promoters  "
      ]
     },
     "execution_count": 4,
     "metadata": {},
     "output_type": "execute_result"
    }
   ],
   "source": [
    "df = pd.read_sql(query, engine)\n",
    "df.head(3)"
   ]
  },
  {
   "cell_type": "code",
   "execution_count": 5,
   "id": "0f9ec305",
   "metadata": {},
   "outputs": [],
   "source": [
    "df.to_csv('telecomm_csi_tableau.csv', index=False)"
   ]
  },
  {
   "cell_type": "markdown",
   "id": "03606759",
   "metadata": {},
   "source": [
    "### Укажите ссылку на дашборд на сайте Tableau Public:"
   ]
  },
  {
   "cell_type": "markdown",
   "id": "16c6ea5c",
   "metadata": {},
   "source": [
    "[дашборд](https://public.tableau.com/views/nps_16556776154070/Dashboard1?:language=en-US&publish=yes&:display_count=n&:origin=viz_share_link)"
   ]
  },
  {
   "cell_type": "markdown",
   "id": "f5689a0f",
   "metadata": {},
   "source": [
    "### Укажите ссылку на pdf-файл с презентацией:"
   ]
  },
  {
   "cell_type": "markdown",
   "id": "8c027706",
   "metadata": {},
   "source": [
    "[презентация](https://disk.yandex.ru/d/g0SN8lFL7cnjHw)"
   ]
  },
  {
   "cell_type": "code",
   "execution_count": null,
   "id": "f03ca46c",
   "metadata": {},
   "outputs": [],
   "source": []
  }
 ],
 "metadata": {
  "ExecuteTimeLog": [
   {
    "duration": 752,
    "start_time": "2021-10-03T17:40:52.731Z"
   },
   {
    "duration": 20,
    "start_time": "2021-10-03T17:40:53.486Z"
   },
   {
    "duration": 4,
    "start_time": "2021-10-03T17:41:04.638Z"
   },
   {
    "duration": 461,
    "start_time": "2021-10-03T17:41:04.912Z"
   },
   {
    "duration": 284,
    "start_time": "2021-10-03T17:41:05.376Z"
   },
   {
    "duration": 574,
    "start_time": "2021-10-06T07:55:05.029Z"
   },
   {
    "duration": 6,
    "start_time": "2021-10-06T07:55:05.605Z"
   },
   {
    "duration": 3,
    "start_time": "2021-10-06T07:55:14.685Z"
   },
   {
    "duration": 406,
    "start_time": "2021-10-06T07:55:15.522Z"
   },
   {
    "duration": 67,
    "start_time": "2021-10-06T07:55:15.929Z"
   },
   {
    "duration": 840,
    "start_time": "2021-10-07T07:54:04.647Z"
   },
   {
    "duration": 10,
    "start_time": "2021-10-07T07:54:05.490Z"
   },
   {
    "duration": 4,
    "start_time": "2021-10-07T07:54:05.544Z"
   },
   {
    "duration": 391,
    "start_time": "2021-10-07T07:54:06.237Z"
   },
   {
    "duration": 293,
    "start_time": "2021-10-07T07:54:06.654Z"
   },
   {
    "duration": 7,
    "start_time": "2022-06-13T13:11:16.270Z"
   },
   {
    "duration": 46,
    "start_time": "2022-06-13T13:11:17.020Z"
   },
   {
    "duration": 514,
    "start_time": "2022-06-13T13:11:20.970Z"
   },
   {
    "duration": 18,
    "start_time": "2022-06-13T13:11:21.619Z"
   },
   {
    "duration": 2,
    "start_time": "2022-06-13T13:11:22.265Z"
   },
   {
    "duration": 4430,
    "start_time": "2022-06-13T13:11:22.831Z"
   },
   {
    "duration": 2,
    "start_time": "2022-06-13T13:13:22.497Z"
   },
   {
    "duration": 340,
    "start_time": "2022-06-13T13:13:23.296Z"
   },
   {
    "duration": 3,
    "start_time": "2022-06-13T13:14:29.299Z"
   },
   {
    "duration": 316,
    "start_time": "2022-06-13T13:14:29.887Z"
   },
   {
    "duration": 2,
    "start_time": "2022-06-13T13:14:41.611Z"
   },
   {
    "duration": 5441,
    "start_time": "2022-06-13T13:14:42.837Z"
   },
   {
    "duration": 3,
    "start_time": "2022-06-13T13:50:13.417Z"
   },
   {
    "duration": 6975,
    "start_time": "2022-06-13T13:50:13.942Z"
   },
   {
    "duration": 3,
    "start_time": "2022-06-13T13:50:59.506Z"
   },
   {
    "duration": 552,
    "start_time": "2022-06-13T13:51:03.510Z"
   },
   {
    "duration": 2,
    "start_time": "2022-06-13T13:51:36.869Z"
   },
   {
    "duration": 7999,
    "start_time": "2022-06-13T13:51:37.308Z"
   },
   {
    "duration": 564,
    "start_time": "2022-06-13T18:17:36.977Z"
   },
   {
    "duration": 33,
    "start_time": "2022-06-13T18:17:37.746Z"
   },
   {
    "duration": 4,
    "start_time": "2022-06-13T18:17:38.433Z"
   },
   {
    "duration": 6234,
    "start_time": "2022-06-13T18:17:39.292Z"
   },
   {
    "duration": 4216,
    "start_time": "2022-06-13T18:17:45.528Z"
   },
   {
    "duration": 3,
    "start_time": "2022-06-13T18:18:30.057Z"
   },
   {
    "duration": 5366,
    "start_time": "2022-06-13T18:18:30.874Z"
   },
   {
    "duration": 2,
    "start_time": "2022-06-13T18:20:00.440Z"
   },
   {
    "duration": 5626,
    "start_time": "2022-06-13T18:20:00.941Z"
   },
   {
    "duration": 4136,
    "start_time": "2022-06-13T18:21:18.817Z"
   },
   {
    "duration": 4312,
    "start_time": "2022-06-13T18:21:35.172Z"
   }
  ],
  "kernelspec": {
   "display_name": "Python 3 (ipykernel)",
   "language": "python",
   "name": "python3"
  },
  "language_info": {
   "codemirror_mode": {
    "name": "ipython",
    "version": 3
   },
   "file_extension": ".py",
   "mimetype": "text/x-python",
   "name": "python",
   "nbconvert_exporter": "python",
   "pygments_lexer": "ipython3",
   "version": "3.9.12"
  },
  "toc": {
   "base_numbering": 1,
   "nav_menu": {},
   "number_sections": true,
   "sideBar": true,
   "skip_h1_title": true,
   "title_cell": "Table of Contents",
   "title_sidebar": "Contents",
   "toc_cell": false,
   "toc_position": {},
   "toc_section_display": true,
   "toc_window_display": false
  }
 },
 "nbformat": 4,
 "nbformat_minor": 5
}
