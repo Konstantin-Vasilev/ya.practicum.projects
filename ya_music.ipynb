{
 "cells": [
  {
   "cell_type": "markdown",
   "metadata": {},
   "source": [
    "# Константин, привет! 👋\n",
    "\n",
    "Меня зовут Артем Пиляй. Я буду проверять твой проект. Со мной можно на «ты».\n",
    " \n",
    "В тетрадке ты найдешь комментарии к проекту, они будут в отдельных ячейках Markdown с заголовком «🔁#️⃣ Ревьюер».  \n",
    "Твои проекты станут еще круче, если ты воспользуешься комментариями в дальнейших проектах.\n",
    " \n",
    "Повторная проверка пройдет быстрее если ты не будешь перемещать, изменять и удалять мои комментарии. Еще ускорить повторную проверку можно если ты будешь писать о внесенных изменениях в синих ячейках Markdown, заготовку я тебе приготовил ниже. 😉\n",
    "\n",
    "<div class=\"alert alert-danger\">\n",
    "\n",
    "<b>🔁#️⃣ Ревьюер: ✋</b> Такой комментарий нужно исправить обязательно, он критически влияет на удачное выполнение проекта.\n",
    "\n",
    "</div>\n",
    "\n",
    "<div class=\"alert alert-warning\">\n",
    "\n",
    "<b>🔁#️⃣ Ревьюер: 👉</b> Такой комментарий является рекомендацией или советом. Можешь использовать их на своё усмотрение.\n",
    "\n",
    "</div>\n",
    "\n",
    "<div class=\"alert alert-success\">\n",
    "\n",
    "<b>🔁#️⃣ Ревьюер: 👍</b> Такой комментарий в начале проекта означает, что работа принята. В основной части работы комментарии такого цвета говорят о том, что было сделано что-то качественное и правильное. 😉\n",
    "\n",
    "</div>"
   ]
  },
  {
   "cell_type": "markdown",
   "metadata": {},
   "source": [
    "<div class=\"alert alert-info\">\n",
    "\n",
    "<b>Студент: </b> Такой комментарий можно будет быстро найти.\n",
    "\n",
    "</div>"
   ]
  },
  {
   "cell_type": "markdown",
   "metadata": {},
   "source": [
    "---"
   ]
  },
  {
   "cell_type": "markdown",
   "metadata": {},
   "source": [
    "<div class=\"alert alert-danger\">\n",
    "\n",
    "<b>🔁1️⃣ Ревьюер: ✋</b> Константин, у тебя хороший проект. Молодец! Осталось исправить два комментария и будет здорово, если удалишь лишние print() и display(). Они находятся в последних строках ячеек.\n",
    "    \n",
    "Для удобства поиска я добавил тебе ссылки:\n",
    "    \n",
    "* [Выполни техническое задание](#cell_9)\n",
    "* [Исправь функцию](#cell_20)\n",
    "    \n",
    "Жду новую версию проекта. 🙂\n",
    "\n",
    "</div>"
   ]
  },
  {
   "cell_type": "markdown",
   "metadata": {},
   "source": [
    "<div class=\"alert alert-danger\">\n",
    "\n",
    "<b>🔁2️⃣ Ревьюер: ✋</b> Ты забыл объявить переменную `columns`, код не работает до конца. Чтобы не терять время запускай проект с начала и до конца, проверяй его на работоспособность.\n",
    "    \n",
    "</div>"
   ]
  },
  {
   "cell_type": "markdown",
   "metadata": {},
   "source": [
    "<div class=\"alert alert-success\">\n",
    "\n",
    "<b>🔁3️⃣ Ревьюер: ✌️</b> Спасибо тебе за проект, рад был помочь\n",
    "    \n",
    "Поздравляю, **проект принят!** 🥳 🎉 Ты молодец!\n",
    "\n",
    "Желаю тебе успехов в дальнейшем обучении. 😉\n",
    "\n",
    "</div>"
   ]
  },
  {
   "cell_type": "markdown",
   "metadata": {
    "id": "E0vqbgi9ay0H"
   },
   "source": [
    "# Яндекс.Музыка"
   ]
  },
  {
   "cell_type": "markdown",
   "metadata": {
    "id": "VUC88oWjTJw2"
   },
   "source": [
    "Сравнение Москвы и Петербурга окружено мифами. Например:\n",
    " * Москва — мегаполис, подчинённый жёсткому ритму рабочей недели;\n",
    " * Петербург — культурная столица, со своими вкусами.\n",
    "\n",
    "На данных Яндекс.Музыки вы сравните поведение пользователей двух столиц.\n",
    "\n",
    "**Цель исследования** — проверьте три гипотезы:\n",
    "1. Активность пользователей зависит от дня недели. Причём в Москве и Петербурге это проявляется по-разному.\n",
    "2. В понедельник утром в Москве преобладают одни жанры, а в Петербурге — другие. Так же и вечером пятницы преобладают разные жанры — в зависимости от города. \n",
    "3. Москва и Петербург предпочитают разные жанры музыки. В Москве чаще слушают поп-музыку, в Петербурге — русский рэп.\n",
    "\n",
    "**Ход исследования**\n",
    "\n",
    "Данные о поведении пользователей вы получите из файла `yandex_music_project.csv`. О качестве данных ничего не известно. Поэтому перед проверкой гипотез понадобится обзор данных. \n",
    "\n",
    "Вы проверите данные на ошибки и оцените их влияние на исследование. Затем, на этапе предобработки вы поищете возможность исправить самые критичные ошибки данных.\n",
    " \n",
    "Таким образом, исследование пройдёт в три этапа:\n",
    " 1. Обзор данных.\n",
    " 2. Предобработка данных.\n",
    " 3. Проверка гипотез.\n",
    "\n"
   ]
  },
  {
   "cell_type": "markdown",
   "metadata": {
    "id": "Ml1hmfXC_Zcs"
   },
   "source": [
    "## Обзор данных\n",
    "\n",
    "Составьте первое представление о данных Яндекс.Музыки.\n",
    "\n",
    "\n"
   ]
  },
  {
   "cell_type": "markdown",
   "metadata": {
    "id": "57eAOGIz_Zcs"
   },
   "source": [
    "Основной инструмент аналитика — `pandas`. Импортируйте эту библиотеку."
   ]
  },
  {
   "cell_type": "code",
   "execution_count": 1,
   "metadata": {
    "id": "AXN7PHPN_Zcs"
   },
   "outputs": [],
   "source": [
    "# импорт библиотеки pandas\n",
    "import pandas as pd"
   ]
  },
  {
   "cell_type": "markdown",
   "metadata": {},
   "source": [
    "<div class=\"alert alert-success\">\n",
    "\n",
    "<b>🔁1️⃣ Ревьюер: 👍</b> Молодец, что используешь сокращение `pd` для библиотеки Pandas. Это общепринятое сокращение для этой библиотеки, и делает твой код более понятным для другого аналитика, датасаентиста или программиста. \n",
    "\n",
    "</div>"
   ]
  },
  {
   "cell_type": "markdown",
   "metadata": {
    "id": "SG23P8tt_Zcs"
   },
   "source": [
    "Прочитайте файл `yandex_music_project.csv` из папки `/datasets` и сохраните его в переменной `df`:"
   ]
  },
  {
   "cell_type": "code",
   "execution_count": 2,
   "metadata": {
    "id": "fFVu7vqh_Zct"
   },
   "outputs": [],
   "source": [
    "# чтение файла с данными и сохранение в df\n",
    "df = pd.read_csv('/datasets/yandex_music_project.csv')"
   ]
  },
  {
   "cell_type": "markdown",
   "metadata": {},
   "source": [
    "<div class=\"alert alert-success\">\n",
    "\n",
    "<b>🔁1️⃣ Ревьюер: 👍</b> Этот шаг тоже выполнен правильно. Важно указать верный путь к файлу с данными.\n",
    "\n",
    "---\n",
    "    \n",
    "ℹ️ Слэш в начале пути указывает, что нужно искать файл в папке.  \n",
    "ℹ️ Если будешь выполнять проекты локально, не забывай проверять их работоспособность после заливки в JupyterHub, это сэкономит твое время.\n",
    "\n",
    "</div>"
   ]
  },
  {
   "cell_type": "markdown",
   "metadata": {
    "id": "rDoOMd3uTqnZ"
   },
   "source": [
    "Выведите на экран первые десять строк таблицы:"
   ]
  },
  {
   "cell_type": "code",
   "execution_count": 3,
   "metadata": {
    "id": "oWTVX3gW_Zct"
   },
   "outputs": [
    {
     "data": {
      "text/html": [
       "<div>\n",
       "<style scoped>\n",
       "    .dataframe tbody tr th:only-of-type {\n",
       "        vertical-align: middle;\n",
       "    }\n",
       "\n",
       "    .dataframe tbody tr th {\n",
       "        vertical-align: top;\n",
       "    }\n",
       "\n",
       "    .dataframe thead th {\n",
       "        text-align: right;\n",
       "    }\n",
       "</style>\n",
       "<table border=\"1\" class=\"dataframe\">\n",
       "  <thead>\n",
       "    <tr style=\"text-align: right;\">\n",
       "      <th></th>\n",
       "      <th>userID</th>\n",
       "      <th>Track</th>\n",
       "      <th>artist</th>\n",
       "      <th>genre</th>\n",
       "      <th>City</th>\n",
       "      <th>time</th>\n",
       "      <th>Day</th>\n",
       "    </tr>\n",
       "  </thead>\n",
       "  <tbody>\n",
       "    <tr>\n",
       "      <td>0</td>\n",
       "      <td>FFB692EC</td>\n",
       "      <td>Kamigata To Boots</td>\n",
       "      <td>The Mass Missile</td>\n",
       "      <td>rock</td>\n",
       "      <td>Saint-Petersburg</td>\n",
       "      <td>20:28:33</td>\n",
       "      <td>Wednesday</td>\n",
       "    </tr>\n",
       "    <tr>\n",
       "      <td>1</td>\n",
       "      <td>55204538</td>\n",
       "      <td>Delayed Because of Accident</td>\n",
       "      <td>Andreas Rönnberg</td>\n",
       "      <td>rock</td>\n",
       "      <td>Moscow</td>\n",
       "      <td>14:07:09</td>\n",
       "      <td>Friday</td>\n",
       "    </tr>\n",
       "    <tr>\n",
       "      <td>2</td>\n",
       "      <td>20EC38</td>\n",
       "      <td>Funiculì funiculà</td>\n",
       "      <td>Mario Lanza</td>\n",
       "      <td>pop</td>\n",
       "      <td>Saint-Petersburg</td>\n",
       "      <td>20:58:07</td>\n",
       "      <td>Wednesday</td>\n",
       "    </tr>\n",
       "    <tr>\n",
       "      <td>3</td>\n",
       "      <td>A3DD03C9</td>\n",
       "      <td>Dragons in the Sunset</td>\n",
       "      <td>Fire + Ice</td>\n",
       "      <td>folk</td>\n",
       "      <td>Saint-Petersburg</td>\n",
       "      <td>08:37:09</td>\n",
       "      <td>Monday</td>\n",
       "    </tr>\n",
       "    <tr>\n",
       "      <td>4</td>\n",
       "      <td>E2DC1FAE</td>\n",
       "      <td>Soul People</td>\n",
       "      <td>Space Echo</td>\n",
       "      <td>dance</td>\n",
       "      <td>Moscow</td>\n",
       "      <td>08:34:34</td>\n",
       "      <td>Monday</td>\n",
       "    </tr>\n",
       "    <tr>\n",
       "      <td>5</td>\n",
       "      <td>842029A1</td>\n",
       "      <td>Преданная</td>\n",
       "      <td>IMPERVTOR</td>\n",
       "      <td>rusrap</td>\n",
       "      <td>Saint-Petersburg</td>\n",
       "      <td>13:09:41</td>\n",
       "      <td>Friday</td>\n",
       "    </tr>\n",
       "    <tr>\n",
       "      <td>6</td>\n",
       "      <td>4CB90AA5</td>\n",
       "      <td>True</td>\n",
       "      <td>Roman Messer</td>\n",
       "      <td>dance</td>\n",
       "      <td>Moscow</td>\n",
       "      <td>13:00:07</td>\n",
       "      <td>Wednesday</td>\n",
       "    </tr>\n",
       "    <tr>\n",
       "      <td>7</td>\n",
       "      <td>F03E1C1F</td>\n",
       "      <td>Feeling This Way</td>\n",
       "      <td>Polina Griffith</td>\n",
       "      <td>dance</td>\n",
       "      <td>Moscow</td>\n",
       "      <td>20:47:49</td>\n",
       "      <td>Wednesday</td>\n",
       "    </tr>\n",
       "    <tr>\n",
       "      <td>8</td>\n",
       "      <td>8FA1D3BE</td>\n",
       "      <td>И вновь продолжается бой</td>\n",
       "      <td>NaN</td>\n",
       "      <td>ruspop</td>\n",
       "      <td>Moscow</td>\n",
       "      <td>09:17:40</td>\n",
       "      <td>Friday</td>\n",
       "    </tr>\n",
       "    <tr>\n",
       "      <td>9</td>\n",
       "      <td>E772D5C0</td>\n",
       "      <td>Pessimist</td>\n",
       "      <td>NaN</td>\n",
       "      <td>dance</td>\n",
       "      <td>Saint-Petersburg</td>\n",
       "      <td>21:20:49</td>\n",
       "      <td>Wednesday</td>\n",
       "    </tr>\n",
       "  </tbody>\n",
       "</table>\n",
       "</div>"
      ],
      "text/plain": [
       "     userID                        Track            artist   genre  \\\n",
       "0  FFB692EC            Kamigata To Boots  The Mass Missile    rock   \n",
       "1  55204538  Delayed Because of Accident  Andreas Rönnberg    rock   \n",
       "2    20EC38            Funiculì funiculà       Mario Lanza     pop   \n",
       "3  A3DD03C9        Dragons in the Sunset        Fire + Ice    folk   \n",
       "4  E2DC1FAE                  Soul People        Space Echo   dance   \n",
       "5  842029A1                    Преданная         IMPERVTOR  rusrap   \n",
       "6  4CB90AA5                         True      Roman Messer   dance   \n",
       "7  F03E1C1F             Feeling This Way   Polina Griffith   dance   \n",
       "8  8FA1D3BE     И вновь продолжается бой               NaN  ruspop   \n",
       "9  E772D5C0                    Pessimist               NaN   dance   \n",
       "\n",
       "             City        time        Day  \n",
       "0  Saint-Petersburg  20:28:33  Wednesday  \n",
       "1            Moscow  14:07:09     Friday  \n",
       "2  Saint-Petersburg  20:58:07  Wednesday  \n",
       "3  Saint-Petersburg  08:37:09     Monday  \n",
       "4            Moscow  08:34:34     Monday  \n",
       "5  Saint-Petersburg  13:09:41     Friday  \n",
       "6            Moscow  13:00:07  Wednesday  \n",
       "7            Moscow  20:47:49  Wednesday  \n",
       "8            Moscow  09:17:40     Friday  \n",
       "9  Saint-Petersburg  21:20:49  Wednesday  "
      ]
     },
     "execution_count": 3,
     "metadata": {},
     "output_type": "execute_result"
    }
   ],
   "source": [
    "# получение первых 10 строк таблицы df\n",
    "df.head(10)"
   ]
  },
  {
   "cell_type": "markdown",
   "metadata": {},
   "source": [
    "<div class=\"alert alert-success\">\n",
    "\n",
    "<b>🔁1️⃣ Ревьюер: 👍</b> Мы познакомились с данными и сделали это аккуратно, осмотрев первые десять строк. \n",
    "    \n",
    "---\n",
    "    \n",
    "ℹ️ Посмотреть «хвост» можно методом `tail()`, а вывести в случайном порядке можно методом `sample()`.\n",
    "\n",
    "</div>"
   ]
  },
  {
   "cell_type": "markdown",
   "metadata": {},
   "source": [
    "<div class=\"alert alert-warning\">\n",
    "    \n",
    "<b>🔁1️⃣ Ревьюер: 👉</b> Функция `display()` или `print()` здесь не нужна, потому что это последняя строка. Jupyter выведет информацию без них. Эти методы есть смысл использовать если после вывода на экран в ячейке будет код.\n",
    "\n",
    "</div>"
   ]
  },
  {
   "cell_type": "markdown",
   "metadata": {},
   "source": [
    "<div class=\"alert alert-success\">\n",
    "\n",
    "<b>🔁2️⃣ Ревьюер: 👍</b> Здорово, что исправляешь не только критические комментарии.\n",
    "\n",
    "</div>"
   ]
  },
  {
   "cell_type": "markdown",
   "metadata": {
    "id": "EO73Kwic_Zct"
   },
   "source": [
    "Одной командой получить общую информацию о таблице:"
   ]
  },
  {
   "cell_type": "code",
   "execution_count": 4,
   "metadata": {
    "id": "DSf2kIb-_Zct"
   },
   "outputs": [
    {
     "name": "stdout",
     "output_type": "stream",
     "text": [
      "<class 'pandas.core.frame.DataFrame'>\n",
      "RangeIndex: 65079 entries, 0 to 65078\n",
      "Data columns (total 7 columns):\n",
      "  userID    65079 non-null object\n",
      "Track       63848 non-null object\n",
      "artist      57876 non-null object\n",
      "genre       63881 non-null object\n",
      "  City      65079 non-null object\n",
      "time        65079 non-null object\n",
      "Day         65079 non-null object\n",
      "dtypes: object(7)\n",
      "memory usage: 3.5+ MB\n"
     ]
    }
   ],
   "source": [
    "# получение общей информации о данных в таблице df\n",
    "df.info()"
   ]
  },
  {
   "cell_type": "markdown",
   "metadata": {},
   "source": [
    "<div class=\"alert alert-success\">\n",
    "\n",
    "<b>🔁1️⃣ Ревьюер: 👍</b> Хорошо. Метод `info()`, как и следует из названия очень информативен. 🙂\n",
    "\n",
    "</div>"
   ]
  },
  {
   "cell_type": "markdown",
   "metadata": {
    "id": "TaQ2Iwbr_Zct"
   },
   "source": [
    "Итак, в таблице семь столбцов. Тип данных во всех столбцах — `object`.\n",
    "\n",
    "Согласно документации к данным:\n",
    "* `userID` — идентификатор пользователя;\n",
    "* `Track` — название трека;  \n",
    "* `artist` — имя исполнителя;\n",
    "* `genre` — название жанра;\n",
    "* `City` — город пользователя;\n",
    "* `time` — время начала прослушивания;\n",
    "* `Day` — день недели.\n",
    "\n",
    "В названиях колонок видны три нарушения стиля:\n",
    "1. Строчные буквы сочетаются с прописными.\n",
    "2. Встречаются пробелы.\n",
    "3. Найдите ещё одну проблему в названии колонок и опишите её в этом пункте.` - userID написано не \"змеиным регистром\".`\n",
    "\n",
    "\n",
    "\n",
    "\n",
    "Количество значений в столбцах различается. Значит, в данных есть пропущенные значения.\n"
   ]
  },
  {
   "cell_type": "markdown",
   "metadata": {},
   "source": [
    "<div class=\"alert alert-success\">\n",
    "\n",
    "<b>🔁1️⃣ Ревьюер: 👍</b> Действительно, читать в `змеином_регистре` столбцы удобнее, чем читать `ВВерблюжьемРегистре`. В начале моего опыта в аналитике и программировании я пробовал оба вида регистров, но в змеином действительно легче читать код.\n",
    "\n",
    "</div>"
   ]
  },
  {
   "cell_type": "markdown",
   "metadata": {
    "id": "MCB6-dXG_Zct"
   },
   "source": [
    "**Выводы**\n",
    "\n",
    "В каждой строке таблицы — данные о прослушанном треке. Часть колонок описывает саму композицию: название, исполнителя и жанр. Остальные данные рассказывают о пользователе: из какого он города, когда он слушал музыку. \n",
    "\n",
    "Предварительно можно утверждать, что, данных достаточно для проверки гипотез. Но встречаются пропуски в данных, а в названиях колонок — расхождения с хорошим стилем.\n",
    "\n",
    "Чтобы двигаться дальше, нужно устранить проблемы в данных."
   ]
  },
  {
   "cell_type": "markdown",
   "metadata": {
    "id": "SjYF6Ub9_Zct"
   },
   "source": [
    "## Предобработка данных\n",
    "Исправьте стиль в заголовках столбцов, исключите пропуски. Затем проверьте данные на дубликаты."
   ]
  },
  {
   "cell_type": "markdown",
   "metadata": {
    "id": "dIaKXr29_Zct"
   },
   "source": [
    "### Стиль заголовков\n",
    "Выведите на экран названия столбцов:"
   ]
  },
  {
   "cell_type": "code",
   "execution_count": 5,
   "metadata": {
    "id": "oKOTdF_Q_Zct"
   },
   "outputs": [
    {
     "data": {
      "text/plain": [
       "Index(['  userID', 'Track', 'artist', 'genre', '  City  ', 'time', 'Day'], dtype='object')"
      ]
     },
     "execution_count": 5,
     "metadata": {},
     "output_type": "execute_result"
    }
   ],
   "source": [
    "# перечень названий столбцов таблицы df\n",
    "df.columns"
   ]
  },
  {
   "cell_type": "markdown",
   "metadata": {},
   "source": [
    "<div class=\"alert alert-warning\">\n",
    "\n",
    "<b>🔁1️⃣ Ревьюер: 👉</b> Метод `columns` выбран верно, но функция `display()` или `print()` здесь не нужна, потому что код с выводом находится в последней строке ячейки. Jupyter выведет информацию без них.\n",
    "\n",
    "</div>"
   ]
  },
  {
   "cell_type": "markdown",
   "metadata": {},
   "source": [
    "<div class=\"alert alert-success\">\n",
    "\n",
    "<b>🔁2️⃣ Ревьюер: 👍</b> Отлично.\n",
    "\n",
    "</div>"
   ]
  },
  {
   "cell_type": "markdown",
   "metadata": {
    "id": "zj5534cv_Zct"
   },
   "source": [
    "Приведите названия в соответствие с хорошим стилем:\n",
    "* несколько слов в названии запишите в «змеином_регистре»,\n",
    "* все символы сделайте строчными,\n",
    "* устраните пробелы.\n",
    "\n",
    "Для этого переименуйте колонки так:\n",
    "* `'  userID'` → `'user_id'`;\n",
    "* `'Track'` → `'track'`;\n",
    "* `'  City  '` → `'city'`;\n",
    "* `'Day'` → `'day'`."
   ]
  },
  {
   "cell_type": "code",
   "execution_count": 6,
   "metadata": {
    "id": "ISlFqs5y_Zct"
   },
   "outputs": [],
   "source": [
    "# переименование столбцов\n",
    "df = df.rename(columns={'  userID': 'user_id', 'Track': 'track', '  City  ': 'city', 'Day': 'day'})"
   ]
  },
  {
   "cell_type": "markdown",
   "metadata": {},
   "source": [
    "<div class=\"alert alert-success\">\n",
    "\n",
    "<b>🔁1️⃣ Ревьюер: 👍</b> Молодец. Верно, выбран метод переименования. Он удобен тем, что сработает без ошибок, даже если изменится порядок столбцов.\n",
    "\n",
    "</div>"
   ]
  },
  {
   "cell_type": "markdown",
   "metadata": {
    "id": "1dqbh00J_Zct"
   },
   "source": [
    "Проверьте результат. Для этого ещё раз выведите на экран названия столбцов:"
   ]
  },
  {
   "cell_type": "code",
   "execution_count": 7,
   "metadata": {
    "id": "d4NOAmTW_Zct"
   },
   "outputs": [
    {
     "data": {
      "text/plain": [
       "Index(['user_id', 'track', 'artist', 'genre', 'city', 'time', 'day'], dtype='object')"
      ]
     },
     "metadata": {},
     "output_type": "display_data"
    }
   ],
   "source": [
    "# проверка результатов - перечень названий столбцов\n",
    "display(df.columns)"
   ]
  },
  {
   "cell_type": "markdown",
   "metadata": {},
   "source": [
    "<div class=\"alert alert-success\">\n",
    "\n",
    "<b>🔁1️⃣ Ревьюер: 👍</b> Верное решение оставлять комментарий над кодом. Во-первых, его так удобнее читать, во-вторых, он не останется за пределами ячейки. \n",
    "\n",
    "</div>"
   ]
  },
  {
   "cell_type": "markdown",
   "metadata": {
    "id": "5ISfbcfY_Zct"
   },
   "source": [
    "### Пропуски значений\n",
    "Сначала посчитайте, сколько в таблице пропущенных значений. Для этого достаточно двух методов `pandas`:"
   ]
  },
  {
   "cell_type": "code",
   "execution_count": 8,
   "metadata": {
    "id": "RskX29qr_Zct"
   },
   "outputs": [
    {
     "data": {
      "text/plain": [
       "user_id       0\n",
       "track      1231\n",
       "artist     7203\n",
       "genre      1198\n",
       "city          0\n",
       "time          0\n",
       "day           0\n",
       "dtype: int64"
      ]
     },
     "execution_count": 8,
     "metadata": {},
     "output_type": "execute_result"
    }
   ],
   "source": [
    "# подсчёт пропусков\n",
    "df.isna().sum()"
   ]
  },
  {
   "cell_type": "markdown",
   "metadata": {},
   "source": [
    "<div class=\"alert alert-success\">\n",
    "\n",
    "<b>🔁1️⃣ Ревьюер: 👍</b> Все правильно.\n",
    "\n",
    "</div>"
   ]
  },
  {
   "cell_type": "markdown",
   "metadata": {
    "id": "qubhgnlO_Zct"
   },
   "source": [
    "Не все пропущенные значения влияют на исследование. Так в `track` и `artist` пропуски не важны для вашей работы. Достаточно заменить их явными обозначениями.\n",
    "\n",
    "Но пропуски в `genre` могут помешать сравнению музыкальных вкусов в Москве и Санкт-Петербурге. На практике было бы правильно установить причину пропусков и восстановить данные. Такой возможности нет в учебном проекте. Придётся:\n",
    "* заполнить и эти пропуски явными обозначениями,\n",
    "* оценить, насколько они повредят расчётам. "
   ]
  },
  {
   "cell_type": "markdown",
   "metadata": {
    "id": "fSv2laPA_Zct"
   },
   "source": [
    "Замените пропущенные значения в столбцах `track`, `artist` и `genre` на строку `'unknown'`. Для этого создайте список `columns_to_replace`, переберите его элементы циклом `for` и для каждого столбца выполните замену пропущенных значений:"
   ]
  },
  {
   "cell_type": "code",
   "execution_count": 9,
   "metadata": {
    "id": "KplB5qWs_Zct"
   },
   "outputs": [],
   "source": [
    "# перебор названий столбцов в цикле и замена пропущенных значений на 'unknown'\n",
    "columns_to_replace = ['track', 'artist', 'genre']\n",
    "for column in columns_to_replace:\n",
    "    df[column] = df[column].fillna('unknown')"
   ]
  },
  {
   "cell_type": "markdown",
   "metadata": {},
   "source": [
    "<a id=\"cell_9\"></a>\n",
    "<div class=\"alert alert-danger\">\n",
    "   \n",
    "<b>🔁1️⃣ Ревьюер: ✋</b> На самом деле ты показал элегантное решение, но дело в том, что в условиях техзадания четко оговорены столбцы, в которых нужно произвести замену. Пожалуйста сформируй список по условию техзадания.\n",
    "</div>"
   ]
  },
  {
   "cell_type": "markdown",
   "metadata": {},
   "source": [
    "<div class=\"alert alert-success\">\n",
    "\n",
    "<b>🔁2️⃣ Ревьюер: 👍</b> Спасибо.\n",
    "\n",
    "</div>"
   ]
  },
  {
   "cell_type": "markdown",
   "metadata": {
    "id": "Ilsm-MZo_Zct"
   },
   "source": [
    "Убедитесь, что в таблице не осталось пропусков. Для этого ещё раз посчитайте пропущенные значения."
   ]
  },
  {
   "cell_type": "code",
   "execution_count": 10,
   "metadata": {
    "id": "Tq4nYRX4_Zct"
   },
   "outputs": [
    {
     "data": {
      "text/plain": [
       "user_id    0\n",
       "track      0\n",
       "artist     0\n",
       "genre      0\n",
       "city       0\n",
       "time       0\n",
       "day        0\n",
       "dtype: int64"
      ]
     },
     "metadata": {},
     "output_type": "display_data"
    }
   ],
   "source": [
    "# подсчёт пропусков\n",
    "display(df.isna().sum())"
   ]
  },
  {
   "cell_type": "markdown",
   "metadata": {},
   "source": [
    "<div class=\"alert alert-success\">\n",
    "\n",
    "<b>🔁1️⃣ Ревьюер: 👍</b> Верно. \n",
    "    \n",
    "---\n",
    "    \n",
    "ℹ️ Методы `isnull()` и `isna()` делают одно и то же, но использование `isna()` предпочтительнее, потому что `isnull()` – это псевдоним `isna()`.\n",
    "    \n",
    "</div>"
   ]
  },
  {
   "cell_type": "markdown",
   "metadata": {
    "id": "BWKRtBJ3_Zct"
   },
   "source": [
    "### Дубликаты\n",
    "Посчитайте явные дубликаты в таблице одной командой:"
   ]
  },
  {
   "cell_type": "code",
   "execution_count": 11,
   "metadata": {
    "id": "36eES_S0_Zct"
   },
   "outputs": [
    {
     "data": {
      "text/plain": [
       "3826"
      ]
     },
     "execution_count": 11,
     "metadata": {},
     "output_type": "execute_result"
    }
   ],
   "source": [
    "# подсчёт явных дубликатов\n",
    "df.duplicated().sum()"
   ]
  },
  {
   "cell_type": "markdown",
   "metadata": {},
   "source": [
    "<div class=\"alert alert-success\">\n",
    "\n",
    "<b>🔁1️⃣ Ревьюер: 👍</b> Хорошо. Ты используешь оптимальный метод для подсчета дубликатов.\n",
    "\n",
    "</div>"
   ]
  },
  {
   "cell_type": "markdown",
   "metadata": {},
   "source": [
    "<div class=\"alert alert-warning\">\n",
    "    \n",
    "<b>🔁1️⃣ Ревьюер: 👉</b> ~`display()`~\n",
    "</div>"
   ]
  },
  {
   "cell_type": "markdown",
   "metadata": {},
   "source": [
    "<div class=\"alert alert-success\">\n",
    "\n",
    "<b>🔁2️⃣ Ревьюер: 👍</b> Супер.\n",
    "\n",
    "</div>"
   ]
  },
  {
   "cell_type": "markdown",
   "metadata": {
    "id": "Ot25h6XR_Zct"
   },
   "source": [
    "Вызовите специальный метод `pandas`, чтобы удалить явные дубликаты:"
   ]
  },
  {
   "cell_type": "code",
   "execution_count": 12,
   "metadata": {
    "id": "exFHq6tt_Zct"
   },
   "outputs": [],
   "source": [
    "# удаление явных дубликатов (с удалением старых индексов и формированием новых)\n",
    "df = df.drop_duplicates().reset_index(drop=True)"
   ]
  },
  {
   "cell_type": "markdown",
   "metadata": {},
   "source": [
    "<div class=\"alert alert-success\">\n",
    "\n",
    "<b>🔁1️⃣ Ревьюер: 👍</b> И дубликатов нет и индексы в порядке. 😉\n",
    "\n",
    "</div>"
   ]
  },
  {
   "cell_type": "markdown",
   "metadata": {
    "id": "Im2YwBEG_Zct"
   },
   "source": [
    "Ещё раз посчитайте явные дубликаты в таблице — убедитесь, что полностью от них избавились:"
   ]
  },
  {
   "cell_type": "code",
   "execution_count": 13,
   "metadata": {
    "id": "-8PuNWQ0_Zct"
   },
   "outputs": [
    {
     "data": {
      "text/plain": [
       "0"
      ]
     },
     "execution_count": 13,
     "metadata": {},
     "output_type": "execute_result"
    }
   ],
   "source": [
    "# проверка на отсутствие дубликатов\n",
    "df.duplicated().sum()"
   ]
  },
  {
   "cell_type": "markdown",
   "metadata": {
    "id": "QlFBsxAr_Zct"
   },
   "source": [
    "Теперь избавьтесь от неявных дубликатов в колонке `genre`. Например, название одного и того же жанра может быть записано немного по-разному. Такие ошибки тоже повлияют на результат исследования."
   ]
  },
  {
   "cell_type": "markdown",
   "metadata": {
    "id": "eSjWwsOh_Zct"
   },
   "source": [
    "Выведите на экран список уникальных названий жанров, отсортированный в алфавитном порядке. Для этого:\n",
    "* извлеките нужный столбец датафрейма, \n",
    "* примените к нему метод сортировки,\n",
    "* для отсортированного столбца вызовите метод, который вернёт уникальные значения из столбца."
   ]
  },
  {
   "cell_type": "code",
   "execution_count": 14,
   "metadata": {
    "id": "JIUcqzZN_Zct"
   },
   "outputs": [
    {
     "data": {
      "text/plain": [
       "array(['acid', 'acoustic', 'action', 'adult', 'africa', 'afrikaans',\n",
       "       'alternative', 'alternativepunk', 'ambient', 'americana',\n",
       "       'animated', 'anime', 'arabesk', 'arabic', 'arena',\n",
       "       'argentinetango', 'art', 'audiobook', 'author', 'avantgarde',\n",
       "       'axé', 'baile', 'balkan', 'beats', 'bigroom', 'black', 'bluegrass',\n",
       "       'blues', 'bollywood', 'bossa', 'brazilian', 'breakbeat', 'breaks',\n",
       "       'broadway', 'cantautori', 'cantopop', 'canzone', 'caribbean',\n",
       "       'caucasian', 'celtic', 'chamber', 'chanson', 'children', 'chill',\n",
       "       'chinese', 'choral', 'christian', 'christmas', 'classical',\n",
       "       'classicmetal', 'club', 'colombian', 'comedy', 'conjazz',\n",
       "       'contemporary', 'country', 'cuban', 'dance', 'dancehall',\n",
       "       'dancepop', 'dark', 'death', 'deep', 'deutschrock', 'deutschspr',\n",
       "       'dirty', 'disco', 'dnb', 'documentary', 'downbeat', 'downtempo',\n",
       "       'drum', 'dub', 'dubstep', 'eastern', 'easy', 'electronic',\n",
       "       'electropop', 'emo', 'entehno', 'epicmetal', 'estrada', 'ethnic',\n",
       "       'eurofolk', 'european', 'experimental', 'extrememetal', 'fado',\n",
       "       'fairytail', 'film', 'fitness', 'flamenco', 'folk', 'folklore',\n",
       "       'folkmetal', 'folkrock', 'folktronica', 'forró', 'frankreich',\n",
       "       'französisch', 'french', 'funk', 'future', 'gangsta', 'garage',\n",
       "       'german', 'ghazal', 'gitarre', 'glitch', 'gospel', 'gothic',\n",
       "       'grime', 'grunge', 'gypsy', 'handsup', \"hard'n'heavy\", 'hardcore',\n",
       "       'hardstyle', 'hardtechno', 'hip', 'hip-hop', 'hiphop',\n",
       "       'historisch', 'holiday', 'hop', 'horror', 'house', 'hymn', 'idm',\n",
       "       'independent', 'indian', 'indie', 'indipop', 'industrial',\n",
       "       'inspirational', 'instrumental', 'international', 'irish', 'jam',\n",
       "       'japanese', 'jazz', 'jewish', 'jpop', 'jungle', 'k-pop',\n",
       "       'karadeniz', 'karaoke', 'kayokyoku', 'korean', 'laiko', 'latin',\n",
       "       'latino', 'leftfield', 'local', 'lounge', 'loungeelectronic',\n",
       "       'lovers', 'malaysian', 'mandopop', 'marschmusik', 'meditative',\n",
       "       'mediterranean', 'melodic', 'metal', 'metalcore', 'mexican',\n",
       "       'middle', 'minimal', 'miscellaneous', 'modern', 'mood', 'mpb',\n",
       "       'muslim', 'native', 'neoklassik', 'neue', 'new', 'newage',\n",
       "       'newwave', 'nu', 'nujazz', 'numetal', 'oceania', 'old', 'opera',\n",
       "       'orchestral', 'other', 'piano', 'podcasts', 'pop', 'popdance',\n",
       "       'popelectronic', 'popeurodance', 'poprussian', 'post',\n",
       "       'posthardcore', 'postrock', 'power', 'progmetal', 'progressive',\n",
       "       'psychedelic', 'punjabi', 'punk', 'quebecois', 'ragga', 'ram',\n",
       "       'rancheras', 'rap', 'rave', 'reggae', 'reggaeton', 'regional',\n",
       "       'relax', 'religious', 'retro', 'rhythm', 'rnb', 'rnr', 'rock',\n",
       "       'rockabilly', 'rockalternative', 'rockindie', 'rockother',\n",
       "       'romance', 'roots', 'ruspop', 'rusrap', 'rusrock', 'russian',\n",
       "       'salsa', 'samba', 'scenic', 'schlager', 'self', 'sertanejo',\n",
       "       'shanson', 'shoegazing', 'showtunes', 'singer', 'ska', 'skarock',\n",
       "       'slow', 'smooth', 'soft', 'soul', 'soulful', 'sound', 'soundtrack',\n",
       "       'southern', 'specialty', 'speech', 'spiritual', 'sport',\n",
       "       'stonerrock', 'surf', 'swing', 'synthpop', 'synthrock',\n",
       "       'sängerportrait', 'tango', 'tanzorchester', 'taraftar', 'tatar',\n",
       "       'tech', 'techno', 'teen', 'thrash', 'top', 'traditional',\n",
       "       'tradjazz', 'trance', 'tribal', 'trip', 'triphop', 'tropical',\n",
       "       'türk', 'türkçe', 'ukrrock', 'unknown', 'urban', 'uzbek',\n",
       "       'variété', 'vi', 'videogame', 'vocal', 'western', 'world',\n",
       "       'worldbeat', 'ïîï', 'электроника'], dtype=object)"
      ]
     },
     "metadata": {},
     "output_type": "display_data"
    }
   ],
   "source": [
    "# Просмотр уникальных названий жанров\n",
    "display(df['genre'].sort_values().unique())"
   ]
  },
  {
   "cell_type": "markdown",
   "metadata": {},
   "source": [
    "<div class=\"alert alert-warning\">\n",
    "\n",
    "<b>Ревьюер: 👉</b> Список отсортирован успешно. Но если нужно отсортировать датафрейм, то можно использовать метод `Pandas` `sort_values()`.\n",
    "</div>"
   ]
  },
  {
   "cell_type": "markdown",
   "metadata": {},
   "source": [
    "<div class=\"alert alert-success\">\n",
    "\n",
    "<b>🔁2️⃣ Ревьюер: 👍</b> Хорошо.\n",
    "\n",
    "</div>"
   ]
  },
  {
   "cell_type": "markdown",
   "metadata": {
    "id": "qej-Qmuo_Zct"
   },
   "source": [
    "Просмотрите список и найдите неявные дубликаты названия `hiphop`. Это могут быть названия с ошибками или альтернативные названия того же жанра.\n",
    "\n",
    "Вы увидите следующие неявные дубликаты:\n",
    "* *hip*,\n",
    "* *hop*,\n",
    "* *hip-hop*.\n",
    "\n",
    "Чтобы очистить от них таблицу, напишите функцию `replace_wrong_genres()` с двумя параметрами: \n",
    "* `wrong_genres` — список дубликатов,\n",
    "* `correct_genre` — строка с правильным значением.\n",
    "\n",
    "Функция должна исправить колонку `genre` в таблице `df`: заменить каждое значение из списка `wrong_genres` на значение из `correct_genre`."
   ]
  },
  {
   "cell_type": "code",
   "execution_count": 15,
   "metadata": {
    "id": "ErNDkmns_Zct"
   },
   "outputs": [],
   "source": [
    "# Функция для замены неявных дубликатов\n",
    "def replace_wrong_genres(wrong_genres, correct_genre):\n",
    "    for name in wrong_genres:\n",
    "        df['genre'] = df['genre'].replace(name, correct_genre)"
   ]
  },
  {
   "cell_type": "markdown",
   "metadata": {},
   "source": [
    "<div class=\"alert alert-success\">\n",
    "\n",
    "<b>🔁1️⃣ Ревьюер: 👍</b> Функция написана верно.\n",
    "\n",
    "</div>"
   ]
  },
  {
   "cell_type": "markdown",
   "metadata": {
    "id": "aDoBJxbA_Zct"
   },
   "source": [
    "Вызовите `replace_wrong_genres()` и передайте ей такие аргументы, чтобы она устранила неявные дубликаты: вместо `hip`, `hop` и `hip-hop` в таблице должно быть значение `hiphop`:"
   ]
  },
  {
   "cell_type": "code",
   "execution_count": 16,
   "metadata": {
    "id": "YN5i2hpmSo09"
   },
   "outputs": [],
   "source": [
    "# Устранение неявных дубликатов\n",
    "replace_wrong_genres(['hip', 'hop', 'hip-hop'], 'hiphop')"
   ]
  },
  {
   "cell_type": "markdown",
   "metadata": {
    "id": "zQKF16_RG15m"
   },
   "source": [
    "Проверьте, что заменили неправильные названия:\n",
    "\n",
    "*   hip\n",
    "*   hop\n",
    "*   hip-hop\n",
    "\n",
    "Выведите отсортированный список уникальных значений столбца `genre`:"
   ]
  },
  {
   "cell_type": "code",
   "execution_count": 17,
   "metadata": {
    "id": "wvixALnFG15m"
   },
   "outputs": [
    {
     "data": {
      "text/plain": [
       "array(['acid', 'acoustic', 'action', 'adult', 'africa', 'afrikaans',\n",
       "       'alternative', 'alternativepunk', 'ambient', 'americana',\n",
       "       'animated', 'anime', 'arabesk', 'arabic', 'arena',\n",
       "       'argentinetango', 'art', 'audiobook', 'author', 'avantgarde',\n",
       "       'axé', 'baile', 'balkan', 'beats', 'bigroom', 'black', 'bluegrass',\n",
       "       'blues', 'bollywood', 'bossa', 'brazilian', 'breakbeat', 'breaks',\n",
       "       'broadway', 'cantautori', 'cantopop', 'canzone', 'caribbean',\n",
       "       'caucasian', 'celtic', 'chamber', 'chanson', 'children', 'chill',\n",
       "       'chinese', 'choral', 'christian', 'christmas', 'classical',\n",
       "       'classicmetal', 'club', 'colombian', 'comedy', 'conjazz',\n",
       "       'contemporary', 'country', 'cuban', 'dance', 'dancehall',\n",
       "       'dancepop', 'dark', 'death', 'deep', 'deutschrock', 'deutschspr',\n",
       "       'dirty', 'disco', 'dnb', 'documentary', 'downbeat', 'downtempo',\n",
       "       'drum', 'dub', 'dubstep', 'eastern', 'easy', 'electronic',\n",
       "       'electropop', 'emo', 'entehno', 'epicmetal', 'estrada', 'ethnic',\n",
       "       'eurofolk', 'european', 'experimental', 'extrememetal', 'fado',\n",
       "       'fairytail', 'film', 'fitness', 'flamenco', 'folk', 'folklore',\n",
       "       'folkmetal', 'folkrock', 'folktronica', 'forró', 'frankreich',\n",
       "       'französisch', 'french', 'funk', 'future', 'gangsta', 'garage',\n",
       "       'german', 'ghazal', 'gitarre', 'glitch', 'gospel', 'gothic',\n",
       "       'grime', 'grunge', 'gypsy', 'handsup', \"hard'n'heavy\", 'hardcore',\n",
       "       'hardstyle', 'hardtechno', 'hiphop', 'historisch', 'holiday',\n",
       "       'horror', 'house', 'hymn', 'idm', 'independent', 'indian', 'indie',\n",
       "       'indipop', 'industrial', 'inspirational', 'instrumental',\n",
       "       'international', 'irish', 'jam', 'japanese', 'jazz', 'jewish',\n",
       "       'jpop', 'jungle', 'k-pop', 'karadeniz', 'karaoke', 'kayokyoku',\n",
       "       'korean', 'laiko', 'latin', 'latino', 'leftfield', 'local',\n",
       "       'lounge', 'loungeelectronic', 'lovers', 'malaysian', 'mandopop',\n",
       "       'marschmusik', 'meditative', 'mediterranean', 'melodic', 'metal',\n",
       "       'metalcore', 'mexican', 'middle', 'minimal', 'miscellaneous',\n",
       "       'modern', 'mood', 'mpb', 'muslim', 'native', 'neoklassik', 'neue',\n",
       "       'new', 'newage', 'newwave', 'nu', 'nujazz', 'numetal', 'oceania',\n",
       "       'old', 'opera', 'orchestral', 'other', 'piano', 'podcasts', 'pop',\n",
       "       'popdance', 'popelectronic', 'popeurodance', 'poprussian', 'post',\n",
       "       'posthardcore', 'postrock', 'power', 'progmetal', 'progressive',\n",
       "       'psychedelic', 'punjabi', 'punk', 'quebecois', 'ragga', 'ram',\n",
       "       'rancheras', 'rap', 'rave', 'reggae', 'reggaeton', 'regional',\n",
       "       'relax', 'religious', 'retro', 'rhythm', 'rnb', 'rnr', 'rock',\n",
       "       'rockabilly', 'rockalternative', 'rockindie', 'rockother',\n",
       "       'romance', 'roots', 'ruspop', 'rusrap', 'rusrock', 'russian',\n",
       "       'salsa', 'samba', 'scenic', 'schlager', 'self', 'sertanejo',\n",
       "       'shanson', 'shoegazing', 'showtunes', 'singer', 'ska', 'skarock',\n",
       "       'slow', 'smooth', 'soft', 'soul', 'soulful', 'sound', 'soundtrack',\n",
       "       'southern', 'specialty', 'speech', 'spiritual', 'sport',\n",
       "       'stonerrock', 'surf', 'swing', 'synthpop', 'synthrock',\n",
       "       'sängerportrait', 'tango', 'tanzorchester', 'taraftar', 'tatar',\n",
       "       'tech', 'techno', 'teen', 'thrash', 'top', 'traditional',\n",
       "       'tradjazz', 'trance', 'tribal', 'trip', 'triphop', 'tropical',\n",
       "       'türk', 'türkçe', 'ukrrock', 'unknown', 'urban', 'uzbek',\n",
       "       'variété', 'vi', 'videogame', 'vocal', 'western', 'world',\n",
       "       'worldbeat', 'ïîï', 'электроника'], dtype=object)"
      ]
     },
     "execution_count": 17,
     "metadata": {},
     "output_type": "execute_result"
    }
   ],
   "source": [
    "# Проверка на неявные дубликаты\n",
    "df['genre'].sort_values().unique()"
   ]
  },
  {
   "cell_type": "markdown",
   "metadata": {},
   "source": [
    "<div class=\"alert alert-warning\">\n",
    "\n",
    "<b>🔁1️⃣ Ревьюер: 👉</b> Подскажу: \n",
    "    \n",
    "```py\n",
    "df['genre'].sort_values().unique()\n",
    "```\n",
    "\n",
    "</div>"
   ]
  },
  {
   "cell_type": "markdown",
   "metadata": {},
   "source": [
    "<div class=\"alert alert-success\">\n",
    "\n",
    "<b>🔁2️⃣ Ревьюер: 👍</b> И здесь хорошо.\n",
    "\n",
    "</div>"
   ]
  },
  {
   "cell_type": "markdown",
   "metadata": {
    "id": "jz6a9-7HQUDd"
   },
   "source": [
    "**Выводы**\n",
    "\n",
    "Предобработка обнаружила три проблемы в данных:\n",
    "\n",
    "- нарушения в стиле заголовков,\n",
    "- пропущенные значения,\n",
    "- дубликаты — явные и неявные.\n",
    "\n",
    "Вы исправили заголовки, чтобы упростить работу с таблицей. Без дубликатов исследование станет более точным.\n",
    "\n",
    "Пропущенные значения вы заменили на `'unknown'`. Ещё предстоит увидеть, не повредят ли исследованию пропуски в колонке `genre`.\n",
    "\n",
    "Теперь можно перейти к проверке гипотез. "
   ]
  },
  {
   "cell_type": "markdown",
   "metadata": {
    "id": "WttZHXH0SqKk"
   },
   "source": [
    "## Проверка гипотез"
   ]
  },
  {
   "cell_type": "markdown",
   "metadata": {
    "id": "Im936VVi_Zcu"
   },
   "source": [
    "### Сравнение поведения пользователей двух столиц"
   ]
  },
  {
   "cell_type": "markdown",
   "metadata": {
    "id": "nwt_MuaL_Zcu"
   },
   "source": [
    "Первая гипотеза утверждает, что пользователи по-разному слушают музыку в Москве и Санкт-Петербурге. Проверьте это предположение по данным о трёх днях недели — понедельнике, среде и пятнице. Для этого:\n",
    "\n",
    "* Разделите пользователей Москвы и Санкт-Петербурга\n",
    "* Сравните, сколько треков послушала каждая группа пользователей в понедельник, среду и пятницу.\n"
   ]
  },
  {
   "cell_type": "markdown",
   "metadata": {
    "id": "8Dw_YMmT_Zcu"
   },
   "source": [
    "Для тренировки сначала выполните каждый из расчётов по отдельности. \n",
    "\n",
    "Оцените активность пользователей в каждом городе. Сгруппируйте данные по городу и посчитайте прослушивания в каждой группе.\n",
    "\n"
   ]
  },
  {
   "cell_type": "code",
   "execution_count": 18,
   "metadata": {
    "id": "0_Qs96oh_Zcu"
   },
   "outputs": [
    {
     "data": {
      "text/plain": [
       "city\n",
       "Moscow              42741\n",
       "Saint-Petersburg    18512\n",
       "Name: user_id, dtype: int64"
      ]
     },
     "metadata": {},
     "output_type": "display_data"
    }
   ],
   "source": [
    "# Подсчёт прослушиваний в каждом городе\n",
    "genre_counting_city = df.groupby('city')['user_id'].count()\n",
    "display(genre_counting_city)"
   ]
  },
  {
   "cell_type": "markdown",
   "metadata": {},
   "source": [
    "<div class=\"alert alert-success\">\n",
    "\n",
    "<b>🔁1️⃣ Ревьюер: 👍</b> Все правильно.\n",
    "\n",
    "</div>"
   ]
  },
  {
   "cell_type": "markdown",
   "metadata": {
    "id": "dzli3w8o_Zcu"
   },
   "source": [
    "В Москве прослушиваний больше, чем в Петербурге. Из этого не следует, что московские пользователи чаще слушают музыку. Просто самих пользователей в Москве больше.\n",
    "\n",
    "Теперь сгруппируйте данные по дню недели и подсчитайте прослушивания в понедельник, среду и пятницу. Учтите, что в данных есть информация только о прослушиваниях только за эти дни.\n"
   ]
  },
  {
   "cell_type": "code",
   "execution_count": 19,
   "metadata": {
    "id": "uZMKjiJz_Zcu"
   },
   "outputs": [
    {
     "data": {
      "text/plain": [
       "day\n",
       "Friday       21840\n",
       "Monday       21354\n",
       "Wednesday    18059\n",
       "Name: user_id, dtype: int64"
      ]
     },
     "metadata": {},
     "output_type": "display_data"
    }
   ],
   "source": [
    "# Подсчёт прослушиваний в каждый из трёх дней\n",
    "genre_counting_day = df.groupby('day')['user_id'].count()\n",
    "display(genre_counting_day)"
   ]
  },
  {
   "cell_type": "markdown",
   "metadata": {},
   "source": [
    "<div class=\"alert alert-success\">\n",
    "\n",
    "<b>🔁1️⃣ Ревьюер: 👍</b> И здесь все правильно.\n",
    "\n",
    "</div>"
   ]
  },
  {
   "cell_type": "markdown",
   "metadata": {
    "id": "cC2tNrlL_Zcu"
   },
   "source": [
    "В среднем пользователи из двух городов менее активны по средам. Но картина может измениться, если рассмотреть каждый город в отдельности."
   ]
  },
  {
   "cell_type": "markdown",
   "metadata": {
    "id": "POzs8bGa_Zcu"
   },
   "source": [
    "Вы видели, как работает группировка по городу и по дням недели. Теперь напишите функцию, которая объединит два эти расчёта.\n",
    "\n",
    "Создайте функцию `number_tracks()`, которая посчитает прослушивания для заданного дня и города. Ей понадобятся два параметра:\n",
    "* день недели,\n",
    "* название города.\n",
    "\n",
    "В функции сохраните в переменную строки исходной таблицы, у которых значение:\n",
    "  * в колонке `day` равно параметру `day`,\n",
    "  * в колонке `city` равно параметру `city`.\n",
    "\n",
    "Для этого примените последовательную фильтрацию с логической индексацией.\n",
    "\n",
    "Затем посчитайте значения в столбце `user_id` получившейся таблицы. Результат сохраните в новую переменную. Верните эту переменную из функции."
   ]
  },
  {
   "cell_type": "code",
   "execution_count": 20,
   "metadata": {
    "id": "Nz3GdQB1_Zcu"
   },
   "outputs": [],
   "source": [
    "# <создание функции number_tracks()>\n",
    "# Объявляется функция с двумя параметрами: day, city.\n",
    "# В переменной track_list сохраняются те строки таблицы df, для которых \n",
    "# значение в столбце 'day' равно параметру day и одновременно значение\n",
    "# в столбце 'city' равно параметру city (используйте последовательную фильтрацию\n",
    "# с помощью логической индексации).\n",
    "# В переменной track_list_count сохраняется число значений столбца 'user_id',\n",
    "# рассчитанное методом count() для таблицы track_list.\n",
    "# Функция возвращает число - значение track_list_count.\n",
    "\n",
    "# Функция для подсчёта прослушиваний для конкретного города и дня.\n",
    "# С помощью последовательной фильтрации с логической индексацией она \n",
    "# сначала получит из исходной таблицы строки с нужным днём,\n",
    "# затем из результата отфильтрует строки с нужным городом,\n",
    "# методом count() посчитает количество значений в колонке user_id. \n",
    "# Это количество функция вернёт в качестве результата\n",
    "def number_tracks(day, city):\n",
    "    track_list = df[df['day'] == day]\n",
    "    track_list = track_list[track_list['city'] == city]\n",
    "    track_list_count = track_list['user_id'].count()\n",
    "    return track_list_count"
   ]
  },
  {
   "cell_type": "markdown",
   "metadata": {},
   "source": [
    "<a id=\"cell_20\"></a> \n",
    "<div class=\"alert alert-danger\">\n",
    "    \n",
    "<b>🔁1️⃣ Ревьюер: ✋</b> Python ругается потому что у тебя ошибка в коде функции, решил тебе не подсказывать где, так как вижу, что с Python’ом ты знаком. Если не найдешь ошибку, подскажу. 😉\n",
    "    \n",
    "</div>\n",
    "<div class=\"alert alert-info\">\n",
    "\n",
    "<b>Студент: </b> Я поискал такую ошибку в интернете, что-то похожее нашел. Но если честно, то не понял, почему эта ошибка вылетала.\n",
    "\n",
    "</div>"
   ]
  },
  {
   "cell_type": "markdown",
   "metadata": {},
   "source": [
    "<div class=\"alert alert-success\">\n",
    "\n",
    "<b>🔁2️⃣ Ревьюер: 👍</b> Смотри, ты неправильно делал логическую индексацию:\n",
    "        \n",
    "```py\n",
    "# Было\n",
    "track_list = track_list[df['city'] == city]\n",
    "# Стало\n",
    "track_list = track_list[track_list['city'] == city]\n",
    "```\n",
    "Ты в датафрейме `track_list` пытался сделать срез данных по датафрейму `df`.\n",
    "\n",
    "\n",
    "</div>"
   ]
  },
  {
   "cell_type": "markdown",
   "metadata": {
    "id": "ytf7xFrFJQ2r"
   },
   "source": [
    "Вызовите `number_tracks()` шесть раз, меняя значение параметров — так, чтобы получить данные для каждого города в каждый из трёх дней."
   ]
  },
  {
   "cell_type": "code",
   "execution_count": 21,
   "metadata": {
    "id": "rJcRATNQ_Zcu"
   },
   "outputs": [
    {
     "data": {
      "text/plain": [
       "15740"
      ]
     },
     "metadata": {},
     "output_type": "display_data"
    }
   ],
   "source": [
    "# количество прослушиваний в Москве по понедельникам\n",
    "num_tracks_mon_msc = number_tracks('Monday', 'Moscow')\n",
    "display(num_tracks_mon_msc)"
   ]
  },
  {
   "cell_type": "code",
   "execution_count": 22,
   "metadata": {
    "id": "hq_ncZ5T_Zcu"
   },
   "outputs": [
    {
     "data": {
      "text/plain": [
       "5614"
      ]
     },
     "metadata": {},
     "output_type": "display_data"
    }
   ],
   "source": [
    "# количество прослушиваний в Санкт-Петербурге по понедельникам\n",
    "num_tracks_mon_spb = number_tracks('Monday', 'Saint-Petersburg')\n",
    "display(num_tracks_mon_spb)"
   ]
  },
  {
   "cell_type": "code",
   "execution_count": 23,
   "metadata": {
    "id": "_NTy2VPU_Zcu"
   },
   "outputs": [
    {
     "data": {
      "text/plain": [
       "11056"
      ]
     },
     "metadata": {},
     "output_type": "display_data"
    }
   ],
   "source": [
    "# количество прослушиваний в Москве по средам\n",
    "num_tracks_wed_msc = number_tracks('Wednesday', 'Moscow')\n",
    "display(num_tracks_wed_msc)"
   ]
  },
  {
   "cell_type": "code",
   "execution_count": 24,
   "metadata": {
    "id": "j2y3TAwo_Zcu"
   },
   "outputs": [
    {
     "data": {
      "text/plain": [
       "7003"
      ]
     },
     "metadata": {},
     "output_type": "display_data"
    }
   ],
   "source": [
    "# количество прослушиваний в Санкт-Петербурге по средам\n",
    "num_tracks_wed_spb = number_tracks('Wednesday', 'Saint-Petersburg')\n",
    "display(num_tracks_wed_spb)"
   ]
  },
  {
   "cell_type": "code",
   "execution_count": 25,
   "metadata": {
    "id": "vYDw5u_K_Zcu"
   },
   "outputs": [
    {
     "data": {
      "text/plain": [
       "15945"
      ]
     },
     "metadata": {},
     "output_type": "display_data"
    }
   ],
   "source": [
    "# количество прослушиваний в Москве по пятницам\n",
    "num_tracks_fri_msc = number_tracks('Friday', 'Moscow')\n",
    "display(num_tracks_fri_msc)"
   ]
  },
  {
   "cell_type": "code",
   "execution_count": 26,
   "metadata": {
    "id": "8_yzFtW3_Zcu"
   },
   "outputs": [
    {
     "data": {
      "text/plain": [
       "5895"
      ]
     },
     "metadata": {},
     "output_type": "display_data"
    }
   ],
   "source": [
    "# количество прослушиваний в Санкт-Петербурге по пятницам\n",
    "num_tracks_fri_spb = number_tracks('Friday', 'Saint-Petersburg')\n",
    "display(num_tracks_fri_spb)"
   ]
  },
  {
   "cell_type": "markdown",
   "metadata": {},
   "source": [
    "<div class=\"alert alert-success\">\n",
    "\n",
    "<b>🔁1️⃣ Ревьюер: 👍</b> Круто, данных для финального вывода становится больше. Пазл складывается в картинку!\n",
    "\n",
    "</div>"
   ]
  },
  {
   "cell_type": "markdown",
   "metadata": {
    "id": "7QXffbO-_Zcu"
   },
   "source": [
    "Создайте c помощью конструктора `pd.DataFrame` таблицу, где\n",
    "* названия колонок — `['city', 'monday', 'wednesday', 'friday']`;\n",
    "* данные — результаты, которые вы получили с помощью `number_tracks`."
   ]
  },
  {
   "cell_type": "code",
   "execution_count": 27,
   "metadata": {
    "id": "APAcLpOr_Zcu"
   },
   "outputs": [
    {
     "data": {
      "text/html": [
       "<div>\n",
       "<style scoped>\n",
       "    .dataframe tbody tr th:only-of-type {\n",
       "        vertical-align: middle;\n",
       "    }\n",
       "\n",
       "    .dataframe tbody tr th {\n",
       "        vertical-align: top;\n",
       "    }\n",
       "\n",
       "    .dataframe thead th {\n",
       "        text-align: right;\n",
       "    }\n",
       "</style>\n",
       "<table border=\"1\" class=\"dataframe\">\n",
       "  <thead>\n",
       "    <tr style=\"text-align: right;\">\n",
       "      <th></th>\n",
       "      <th>city</th>\n",
       "      <th>monday</th>\n",
       "      <th>wednesday</th>\n",
       "      <th>friday</th>\n",
       "    </tr>\n",
       "  </thead>\n",
       "  <tbody>\n",
       "    <tr>\n",
       "      <td>0</td>\n",
       "      <td>Moscow</td>\n",
       "      <td>15740</td>\n",
       "      <td>11056</td>\n",
       "      <td>15945</td>\n",
       "    </tr>\n",
       "    <tr>\n",
       "      <td>1</td>\n",
       "      <td>Saint-Petersburg</td>\n",
       "      <td>5614</td>\n",
       "      <td>7003</td>\n",
       "      <td>5895</td>\n",
       "    </tr>\n",
       "  </tbody>\n",
       "</table>\n",
       "</div>"
      ],
      "text/plain": [
       "               city  monday  wednesday  friday\n",
       "0            Moscow   15740      11056   15945\n",
       "1  Saint-Petersburg    5614       7003    5895"
      ]
     },
     "metadata": {},
     "output_type": "display_data"
    }
   ],
   "source": [
    "# Таблица с результатами\n",
    "data = [['Moscow', num_tracks_mon_msc, num_tracks_wed_msc, num_tracks_fri_msc],\n",
    "['Saint-Petersburg', num_tracks_mon_spb, num_tracks_wed_spb, num_tracks_fri_spb]]\n",
    "columns = ['city', 'monday', 'wednesday', 'friday']\n",
    "research_city_day_results = pd.DataFrame(data=data, columns=columns)\n",
    "display(research_city_day_results)"
   ]
  },
  {
   "cell_type": "markdown",
   "metadata": {},
   "source": [
    "<div class=\"alert alert-warning\">\n",
    "\n",
    "<b>🔁1️⃣ Ревьюер: 👉</b> Список в названиях городов не нужен, убираем квадратные скобки. И выглядит очень громоздко, лучше было в предыдущем шаге создать переменные и использовать их.\n",
    "\n",
    "</div>\n",
    "<div class=\"alert alert-info\">\n",
    "\n",
    "<b>Студент: </b> так и правда лучше\n",
    "\n",
    "</div>"
   ]
  },
  {
   "cell_type": "markdown",
   "metadata": {},
   "source": [
    "<div class=\"alert alert-danger\">\n",
    "\n",
    "<b>🔁2️⃣ Ревьюер: ✋</b> Ты забыл объявить переменную `columns`. Чтобы не терять время запускай проект с начала и до конца, проверяй его на работоспособность.\n",
    "    \n",
    "</div>"
   ]
  },
  {
   "cell_type": "markdown",
   "metadata": {},
   "source": [
    "<div class=\"alert alert-success\">\n",
    "\n",
    "<b>🔁3️⃣ Ревьюер: 👍</b> Хорошо.\n",
    "\n",
    "</div>"
   ]
  },
  {
   "cell_type": "markdown",
   "metadata": {
    "id": "-EgPIHYu_Zcu"
   },
   "source": [
    "**Выводы**\n",
    "\n",
    "Данные показывают разницу поведения пользователей:\n",
    "\n",
    "- В Москве пик прослушиваний приходится на понедельник и пятницу, а в среду заметен спад.\n",
    "- В Петербурге, наоборот, больше слушают музыку по средам. Активность в понедельник и пятницу здесь почти в равной мере уступает среде.\n",
    "\n",
    "Значит, данные говорят в пользу первой гипотезы."
   ]
  },
  {
   "cell_type": "markdown",
   "metadata": {
    "id": "atZAxtq4_Zcu"
   },
   "source": [
    "### Музыка в начале и в конце недели"
   ]
  },
  {
   "cell_type": "markdown",
   "metadata": {
    "id": "eXrQqXFH_Zcu"
   },
   "source": [
    "Согласно второй гипотезе, утром в понедельник в Москве преобладают одни жанры, а в Петербурге — другие. Так же и вечером пятницы преобладают разные жанры — в зависимости от города."
   ]
  },
  {
   "cell_type": "markdown",
   "metadata": {
    "id": "S8UcW6Hw_Zcu"
   },
   "source": [
    "Сохраните таблицы с данными в две переменные:\n",
    "* по Москве — в `moscow_general`;\n",
    "* по Санкт-Петербургу — в `spb_general`."
   ]
  },
  {
   "cell_type": "code",
   "execution_count": 28,
   "metadata": {
    "id": "qeaFfM_P_Zcu"
   },
   "outputs": [],
   "source": [
    "# получение таблицы moscow_general из тех строк таблицы df, \n",
    "# для которых значение в столбце 'city' равно 'Moscow'\n",
    "moscow_general = df[df['city'] == 'Moscow']"
   ]
  },
  {
   "cell_type": "code",
   "execution_count": 29,
   "metadata": {
    "id": "ORaVRKto_Zcu"
   },
   "outputs": [],
   "source": [
    "# получение таблицы spb_general из тех строк таблицы df,\n",
    "# для которых значение в столбце 'city' равно 'Saint-Petersburg'\n",
    "spb_general = df[df['city'] == 'Saint-Petersburg']"
   ]
  },
  {
   "cell_type": "markdown",
   "metadata": {},
   "source": [
    "<div class=\"alert alert-success\">\n",
    "\n",
    "<b>🔁1️⃣ Ревьюер: 👍</b> Правильно. Логическая индексация в деле. 😉\n",
    "\n",
    "</div>"
   ]
  },
  {
   "cell_type": "markdown",
   "metadata": {
    "id": "MEJV-CX2_Zcu"
   },
   "source": [
    "Создайте функцию `genre_weekday()` с четырьмя параметрами:\n",
    "* таблица (датафрейм) с данными,\n",
    "* день недели,\n",
    "* начальная временная метка в формате 'hh:mm', \n",
    "* последняя временная метка в формате 'hh:mm'.\n",
    "\n",
    "Функция должна вернуть информацию о топ-10 жанров тех треков, которые прослушивали в указанный день, в промежутке между двумя отметками времени."
   ]
  },
  {
   "cell_type": "code",
   "execution_count": 30,
   "metadata": {
    "id": "laJT9BYl_Zcu"
   },
   "outputs": [],
   "source": [
    "# Объявление функции genre_weekday() с параметрами table, day, time1, time2,\n",
    "# которая возвращает информацию о самых популярных жанрах в указанный день в\n",
    "# заданное время:\n",
    "# 1) в переменную genre_df сохраняются те строки переданного датафрейма table, для\n",
    "#    которых одновременно:\n",
    "#    - значение в столбце day равно значению аргумента day\n",
    "#    - значение в столбце time больше значения аргумента time1\n",
    "#    - значение в столбце time меньше значения аргумента time2\n",
    "#    Используйте последовательную фильтрацию с помощью логической индексации.\n",
    "# 2) сгруппировать датафрейм genre_df по столбцу genre, взять один из его\n",
    "#    столбцов и посчитать методом count() количество записей для каждого из\n",
    "#    присутствующих жанров, получившийся Series записать в переменную\n",
    "#    genre_df_count\n",
    "# 3) отсортировать genre_df_count по убыванию встречаемости и сохранить\n",
    "#    в переменную genre_df_sorted\n",
    "# 4) вернуть Series из 10 первых значений genre_df_sorted, это будут топ-10\n",
    "#    популярных жанров (в указанный день, в заданное время)\n",
    "def genre_weekday(table, day, time1, time2):\n",
    "    genre_df = table[table['day'] == day]\n",
    "    genre_df = genre_df[genre_df['time'] > time1]\n",
    "    genre_df = genre_df[genre_df['time'] < time2]\n",
    "    genre_df_count = genre_df.groupby('genre')['genre'].count()\n",
    "    genre_df_sorted = genre_df_count.sort_values(ascending = False)\n",
    "    return genre_df_sorted.head(10)"
   ]
  },
  {
   "cell_type": "markdown",
   "metadata": {},
   "source": [
    "<div class=\"alert alert-success\">\n",
    "\n",
    "<b>🔁1️⃣ Ревьюер: 👍</b> Еще срез данных можно записать так:\n",
    "```py\n",
    "return genre_df_sorted[:10]\n",
    "```\n",
    "\n",
    "</div>"
   ]
  },
  {
   "cell_type": "markdown",
   "metadata": {
    "id": "la2s2_PF_Zcu"
   },
   "source": [
    "Cравните результаты функции `genre_weekday()` для Москвы и Санкт-Петербурга в понедельник утром (с 7:00 до 11:00) и в пятницу вечером (с 17:00 до 23:00):"
   ]
  },
  {
   "cell_type": "code",
   "execution_count": 31,
   "metadata": {
    "id": "yz7itPUQ_Zcu"
   },
   "outputs": [
    {
     "data": {
      "text/plain": [
       "genre\n",
       "pop            781\n",
       "dance          549\n",
       "electronic     480\n",
       "rock           474\n",
       "hiphop         286\n",
       "ruspop         186\n",
       "world          181\n",
       "rusrap         175\n",
       "alternative    164\n",
       "unknown        161\n",
       "Name: genre, dtype: int64"
      ]
     },
     "execution_count": 31,
     "metadata": {},
     "output_type": "execute_result"
    }
   ],
   "source": [
    "# вызов функции для утра понедельника в Москве (вместо df — таблица moscow_general)\n",
    "# объекты, хранящие время, являются строками и сравниваются как строки\n",
    "# пример вызова: genre_weekday(moscow_general, 'Monday', '07:00', '11:00')\n",
    "genre_weekday(moscow_general, 'Monday', '07:00', '11:00')"
   ]
  },
  {
   "cell_type": "code",
   "execution_count": 32,
   "metadata": {
    "id": "kwUcHPdy_Zcu"
   },
   "outputs": [
    {
     "data": {
      "text/plain": [
       "genre\n",
       "pop            218\n",
       "dance          182\n",
       "rock           162\n",
       "electronic     147\n",
       "hiphop          80\n",
       "ruspop          64\n",
       "alternative     58\n",
       "rusrap          55\n",
       "jazz            44\n",
       "classical       40\n",
       "Name: genre, dtype: int64"
      ]
     },
     "execution_count": 32,
     "metadata": {},
     "output_type": "execute_result"
    }
   ],
   "source": [
    "# вызов функции для утра понедельника в Петербурге (вместо df — таблица spb_general)\n",
    "genre_weekday(spb_general, 'Monday', '07:00', '11:00')"
   ]
  },
  {
   "cell_type": "code",
   "execution_count": 33,
   "metadata": {
    "id": "EzXVRE1o_Zcu"
   },
   "outputs": [
    {
     "data": {
      "text/plain": [
       "genre\n",
       "pop            713\n",
       "rock           517\n",
       "dance          495\n",
       "electronic     482\n",
       "hiphop         273\n",
       "world          208\n",
       "ruspop         170\n",
       "alternative    163\n",
       "classical      163\n",
       "rusrap         142\n",
       "Name: genre, dtype: int64"
      ]
     },
     "execution_count": 33,
     "metadata": {},
     "output_type": "execute_result"
    }
   ],
   "source": [
    "# вызов функции для вечера пятницы в Москве\n",
    "genre_weekday(moscow_general, 'Friday', '17:00', '23:00')"
   ]
  },
  {
   "cell_type": "code",
   "execution_count": 34,
   "metadata": {
    "id": "JZaEKu5v_Zcu"
   },
   "outputs": [
    {
     "data": {
      "text/plain": [
       "genre\n",
       "pop            256\n",
       "rock           216\n",
       "electronic     216\n",
       "dance          210\n",
       "hiphop          97\n",
       "alternative     63\n",
       "jazz            61\n",
       "classical       60\n",
       "rusrap          59\n",
       "world           54\n",
       "Name: genre, dtype: int64"
      ]
     },
     "execution_count": 34,
     "metadata": {},
     "output_type": "execute_result"
    }
   ],
   "source": [
    "# вызов функции для вечера пятницы в Петербурге\n",
    "genre_weekday(spb_general, 'Friday', '17:00', '23:00')"
   ]
  },
  {
   "cell_type": "markdown",
   "metadata": {},
   "source": [
    "<div class=\"alert alert-success\">\n",
    "\n",
    "<b>🔁1️⃣ Ревьюер: 👍</b> Одна маленькая функция, может принести много пользы. 😉 \n",
    "\n",
    "</div>"
   ]
  },
  {
   "cell_type": "markdown",
   "metadata": {
    "id": "wrCe4MNX_Zcu"
   },
   "source": [
    "**Выводы**\n",
    "\n",
    "Если сравнить топ-10 жанров в понедельник утром, можно сделать такие выводы:\n",
    "\n",
    "1. В Москве и Петербурге слушают похожую музыку. Единственное отличие — в московский рейтинг вошёл жанр “world”, а в петербургский — джаз и классика.\n",
    "\n",
    "2. В Москве пропущенных значений оказалось так много, что значение `'unknown'` заняло десятое место среди самых популярных жанров. Значит, пропущенные значения занимают существенную долю в данных и угрожают достоверности исследования.\n",
    "\n",
    "Вечер пятницы не меняет эту картину. Некоторые жанры поднимаются немного выше, другие спускаются, но в целом топ-10 остаётся тем же самым.\n",
    "\n",
    "Таким образом, вторая гипотеза подтвердилась лишь частично:\n",
    "* Пользователи слушают похожую музыку в начале недели и в конце.\n",
    "* Разница между Москвой и Петербургом не слишком выражена. В Москве чаще слушают русскую популярную музыку, в Петербурге — джаз.\n",
    "\n",
    "Однако пропуски в данных ставят под сомнение этот результат. В Москве их так много, что рейтинг топ-10 мог бы выглядеть иначе, если бы не утерянные  данные о жанрах."
   ]
  },
  {
   "cell_type": "markdown",
   "metadata": {
    "id": "JolODAqr_Zcu"
   },
   "source": [
    "### Жанровые предпочтения в Москве и Петербурге\n",
    "\n",
    "Гипотеза: Петербург — столица рэпа, музыку этого жанра там слушают чаще, чем в Москве.  А Москва — город контрастов, в котором, тем не менее, преобладает поп-музыка."
   ]
  },
  {
   "cell_type": "markdown",
   "metadata": {
    "id": "DlegSvaT_Zcu"
   },
   "source": [
    "Сгруппируйте таблицу `moscow_general` по жанру и посчитайте прослушивания треков каждого жанра методом `count()`. Затем отсортируйте результат в порядке убывания и сохраните его в таблице `moscow_genres`."
   ]
  },
  {
   "cell_type": "code",
   "execution_count": 35,
   "metadata": {
    "id": "r19lIPke_Zcu"
   },
   "outputs": [],
   "source": [
    "# одной строкой: группировка таблицы moscow_general по столбцу 'genre', \n",
    "# подсчёт числа значений 'genre' в этой группировке методом count(), \n",
    "# сортировка получившегося Series в порядке убывания и сохранение в moscow_genres\n",
    "moscow_genres = moscow_general.groupby('genre')['genre'].count().sort_values(ascending = False)"
   ]
  },
  {
   "cell_type": "markdown",
   "metadata": {
    "id": "6kMuomxTiIr8"
   },
   "source": [
    "Выведите на экран первые десять строк `moscow_genres`:"
   ]
  },
  {
   "cell_type": "code",
   "execution_count": 36,
   "metadata": {
    "id": "WhCSooF8_Zcv"
   },
   "outputs": [
    {
     "data": {
      "text/plain": [
       "genre\n",
       "pop            5892\n",
       "dance          4435\n",
       "rock           3965\n",
       "electronic     3786\n",
       "hiphop         2096\n",
       "classical      1616\n",
       "world          1432\n",
       "alternative    1379\n",
       "ruspop         1372\n",
       "rusrap         1161\n",
       "Name: genre, dtype: int64"
      ]
     },
     "execution_count": 36,
     "metadata": {},
     "output_type": "execute_result"
    }
   ],
   "source": [
    "# просмотр первых 10 строк moscow_genres\n",
    "moscow_genres.head(10)"
   ]
  },
  {
   "cell_type": "markdown",
   "metadata": {},
   "source": [
    "<div class=\"alert alert-success\">\n",
    "\n",
    "<b>🔁1️⃣ Ревьюер: 👍</b> Убираем `display()`, а в остальном все хорошо.\n",
    "\n",
    "</div>"
   ]
  },
  {
   "cell_type": "markdown",
   "metadata": {
    "id": "cnPG2vnN_Zcv"
   },
   "source": [
    "Теперь повторите то же и для Петербурга.\n",
    "\n",
    "Сгруппируйте таблицу `spb_general` по жанру. Посчитайте прослушивания треков каждого жанра. Результат отсортируйте в порядке убывания и сохраните в таблице `spb_genres`:\n"
   ]
  },
  {
   "cell_type": "code",
   "execution_count": 37,
   "metadata": {
    "id": "gluLIpE7_Zcv"
   },
   "outputs": [],
   "source": [
    "# одной строкой: группировка таблицы spb_general по столбцу 'genre', \n",
    "# подсчёт числа значений 'genre' в этой группировке методом count(), \n",
    "# сортировка получившегося Series в порядке убывания и сохранение в spb_genres\n",
    "spb_genres = spb_general.groupby('genre')['genre'].count().sort_values(ascending = False)"
   ]
  },
  {
   "cell_type": "markdown",
   "metadata": {
    "id": "5Doha_ODgyQ8"
   },
   "source": [
    "Выведите на экран первые десять строк `spb_genres`:"
   ]
  },
  {
   "cell_type": "code",
   "execution_count": 38,
   "metadata": {
    "id": "uaGJHjVU_Zcv"
   },
   "outputs": [
    {
     "data": {
      "text/plain": [
       "genre\n",
       "pop            2431\n",
       "dance          1932\n",
       "rock           1879\n",
       "electronic     1736\n",
       "hiphop          960\n",
       "alternative     649\n",
       "classical       646\n",
       "rusrap          564\n",
       "ruspop          538\n",
       "world           515\n",
       "Name: genre, dtype: int64"
      ]
     },
     "execution_count": 38,
     "metadata": {},
     "output_type": "execute_result"
    }
   ],
   "source": [
    "# просмотр первых 10 строк spb_genres\n",
    "spb_genres.head(10)"
   ]
  },
  {
   "cell_type": "markdown",
   "metadata": {},
   "source": [
    "<div class=\"alert alert-success\">\n",
    "\n",
    "<b>🔁1️⃣ Ревьюер: 👍</b> Аналогично.\n",
    "\n",
    "</div>"
   ]
  },
  {
   "cell_type": "markdown",
   "metadata": {
    "id": "RY51YJYu_Zcv"
   },
   "source": [
    "**Выводы**"
   ]
  },
  {
   "cell_type": "markdown",
   "metadata": {
    "id": "nVhnJEm__Zcv"
   },
   "source": [
    "Гипотеза частично подтвердилась:\n",
    "* Поп-музыка — самый популярный жанр в Москве, как и предполагала гипотеза. Более того, в топ-10 жанров встречается близкий жанр — русская популярная музыка.\n",
    "* Вопреки ожиданиям, рэп одинаково популярен в Москве и Петербурге. \n"
   ]
  },
  {
   "cell_type": "markdown",
   "metadata": {
    "id": "ykKQ0N65_Zcv"
   },
   "source": [
    "## Итоги исследования"
   ]
  },
  {
   "cell_type": "markdown",
   "metadata": {
    "id": "tjUwbHb3_Zcv"
   },
   "source": [
    "Вы проверили три гипотезы и установили:\n",
    "\n",
    "1. День недели по-разному влияет на активность пользователей в Москве и Петербурге. \n",
    "\n",
    "Первая гипотеза полностью подтвердилась.\n",
    "\n",
    "2. Музыкальные предпочтения не сильно меняются в течение недели — будь то Москва или Петербург. Небольшие различия заметны в начале недели, по понедельникам:\n",
    "* в Москве слушают музыку жанра “world”,\n",
    "* в Петербурге — джаз и классику.\n",
    "\n",
    "Таким образом, вторая гипотеза подтвердилась лишь отчасти. Этот результат мог оказаться иным, если бы не пропуски в данных.\n",
    "\n",
    "3. Во вкусах пользователей Москвы и Петербурга больше общего чем различий. Вопреки ожиданиям, предпочтения жанров в Петербурге напоминают московские.\n",
    "\n",
    "Третья гипотеза не подтвердилась. Если различия в предпочтениях и существуют, на основной массе пользователей они незаметны.\n",
    "\n",
    "**На практике исследования содержат проверки статистических гипотез.**\n",
    "Из данных одного сервиса не всегда можно сделать вывод о всех жителях города.\n",
    "Проверки статистических гипотез покажут, насколько они достоверны, исходя из имеющихся данных. \n",
    "С методами проверок гипотез вы ещё познакомитесь в следующих темах."
   ]
  },
  {
   "cell_type": "markdown",
   "metadata": {},
   "source": [
    "<div class=\"alert alert-success\">\n",
    "\n",
    "<b>🔁1️⃣ Ревьюер: 👍</b> С итоговыми выводами все верно!\n",
    "\n",
    "</div>"
   ]
  },
  {
   "cell_type": "markdown",
   "metadata": {},
   "source": [
    "<div class=\"alert alert-danger\">\n",
    "\n",
    "<b>🔁1️⃣ Ревьюер: ✋</b> Константин, у тебя хороший проект. Молодец! Осталось исправить два комментария и будет здорово, если удалишь лишние print() и display(). Они находятся в последних строках ячеек.\n",
    "    \n",
    "Для удобства поиска я добавил тебе ссылки:\n",
    "    \n",
    "* [Выполни техническое задание](#cell_9)\n",
    "* [Исправь функцию](#cell_20)\n",
    "    \n",
    "Жду новую версию проекта. 🙂\n",
    "\n",
    "</div>\n",
    "<div class=\"alert alert-info\">\n",
    "\n",
    "<b>Студент: </b> Артем, привет! Спасибо большое за комментарии. Сейчас, надеюсь, уже лучше выглядит проект. \n",
    "    \n",
    "P.S. с display и правда переборщил 🙂\n",
    "    \n",
    "</div>"
   ]
  },
  {
   "cell_type": "markdown",
   "metadata": {},
   "source": [
    "<div class=\"alert alert-success\">\n",
    "\n",
    "<b>🔁3️⃣ Ревьюер: ✌️</b> Спасибо тебе за проект, рад был помочь\n",
    "    \n",
    "Поздравляю, **проект принят!** 🥳 🎉 Ты молодец!\n",
    "\n",
    "Желаю тебе успехов в дальнейшем обучении. 😉\n",
    "\n",
    "</div>"
   ]
  },
  {
   "cell_type": "code",
   "execution_count": null,
   "metadata": {},
   "outputs": [],
   "source": []
  }
 ],
 "metadata": {
  "ExecuteTimeLog": [
   {
    "duration": 536,
    "start_time": "2022-01-14T14:18:31.431Z"
   },
   {
    "duration": 3,
    "start_time": "2022-01-14T14:18:38.828Z"
   },
   {
    "duration": 274,
    "start_time": "2022-01-14T14:19:56.925Z"
   },
   {
    "duration": 57,
    "start_time": "2022-01-14T14:20:06.439Z"
   },
   {
    "duration": 241,
    "start_time": "2022-01-14T14:20:12.893Z"
   },
   {
    "duration": 69,
    "start_time": "2022-01-14T14:20:17.795Z"
   },
   {
    "duration": 59,
    "start_time": "2022-01-14T14:20:25.353Z"
   },
   {
    "duration": 58,
    "start_time": "2022-01-14T14:21:27.725Z"
   },
   {
    "duration": 137,
    "start_time": "2022-01-14T14:21:43.930Z"
   },
   {
    "duration": 18,
    "start_time": "2022-01-14T14:22:42.237Z"
   },
   {
    "duration": 26,
    "start_time": "2022-01-14T14:23:45.648Z"
   },
   {
    "duration": 4,
    "start_time": "2022-01-14T14:37:46.799Z"
   },
   {
    "duration": 24,
    "start_time": "2022-01-14T14:39:58.392Z"
   },
   {
    "duration": 4,
    "start_time": "2022-01-14T14:40:13.417Z"
   },
   {
    "duration": 5,
    "start_time": "2022-01-14T14:40:33.804Z"
   },
   {
    "duration": 4,
    "start_time": "2022-01-14T14:40:41.907Z"
   },
   {
    "duration": 23,
    "start_time": "2022-01-14T14:43:33.236Z"
   },
   {
    "duration": 2,
    "start_time": "2022-01-14T14:46:32.801Z"
   },
   {
    "duration": 4,
    "start_time": "2022-01-14T14:46:52.201Z"
   },
   {
    "duration": 4,
    "start_time": "2022-01-14T14:47:12.174Z"
   },
   {
    "duration": 32,
    "start_time": "2022-01-14T14:48:41.397Z"
   },
   {
    "duration": 2,
    "start_time": "2022-01-14T14:48:49.396Z"
   },
   {
    "duration": 4,
    "start_time": "2022-01-14T14:49:04.694Z"
   },
   {
    "duration": 24,
    "start_time": "2022-01-14T14:49:29.448Z"
   },
   {
    "duration": 56,
    "start_time": "2022-01-14T14:51:14.540Z"
   },
   {
    "duration": 63,
    "start_time": "2022-01-14T14:52:01.990Z"
   },
   {
    "duration": 50,
    "start_time": "2022-01-14T14:52:06.648Z"
   },
   {
    "duration": 4835,
    "start_time": "2022-01-14T14:54:00.822Z"
   },
   {
    "duration": 9,
    "start_time": "2022-01-14T14:54:27.154Z"
   },
   {
    "duration": 134,
    "start_time": "2022-01-15T20:16:04.575Z"
   },
   {
    "duration": 118,
    "start_time": "2022-01-15T20:17:35.899Z"
   },
   {
    "duration": 141,
    "start_time": "2022-01-15T20:17:51.014Z"
   },
   {
    "duration": 122,
    "start_time": "2022-01-15T20:18:43.227Z"
   },
   {
    "duration": 136,
    "start_time": "2022-01-15T20:19:06.722Z"
   },
   {
    "duration": 146,
    "start_time": "2022-01-15T20:20:44.096Z"
   },
   {
    "duration": 139,
    "start_time": "2022-01-15T20:20:58.521Z"
   },
   {
    "duration": 5,
    "start_time": "2022-01-15T20:21:21.057Z"
   },
   {
    "duration": 848,
    "start_time": "2022-01-15T20:22:50.280Z"
   },
   {
    "duration": 939,
    "start_time": "2022-01-15T20:23:03.506Z"
   },
   {
    "duration": 5,
    "start_time": "2022-01-15T20:24:25.928Z"
   },
   {
    "duration": 752,
    "start_time": "2022-01-15T20:24:31.821Z"
   },
   {
    "duration": 4,
    "start_time": "2022-01-15T20:28:46.085Z"
   },
   {
    "duration": 763,
    "start_time": "2022-01-15T20:28:58.090Z"
   },
   {
    "duration": 373,
    "start_time": "2022-01-15T20:29:45.397Z"
   },
   {
    "duration": 5,
    "start_time": "2022-01-15T20:30:14.649Z"
   },
   {
    "duration": 771,
    "start_time": "2022-01-15T20:30:17.877Z"
   },
   {
    "duration": 4,
    "start_time": "2022-01-15T20:30:27.264Z"
   },
   {
    "duration": 834,
    "start_time": "2022-01-15T20:30:30.564Z"
   },
   {
    "duration": 778,
    "start_time": "2022-01-15T20:32:27.616Z"
   },
   {
    "duration": 4,
    "start_time": "2022-01-15T20:32:40.145Z"
   },
   {
    "duration": 4,
    "start_time": "2022-01-15T20:32:54.300Z"
   },
   {
    "duration": 1228,
    "start_time": "2022-01-15T20:32:58.184Z"
   },
   {
    "duration": 4,
    "start_time": "2022-01-15T20:33:29.968Z"
   },
   {
    "duration": 4,
    "start_time": "2022-01-15T20:33:43.601Z"
   },
   {
    "duration": 773,
    "start_time": "2022-01-15T20:33:47.988Z"
   },
   {
    "duration": 4,
    "start_time": "2022-01-15T20:34:46.990Z"
   },
   {
    "duration": 873,
    "start_time": "2022-01-15T20:34:50.705Z"
   },
   {
    "duration": 5,
    "start_time": "2022-01-15T20:37:10.322Z"
   },
   {
    "duration": 778,
    "start_time": "2022-01-15T20:37:14.177Z"
   },
   {
    "duration": 3,
    "start_time": "2022-01-15T20:37:35.064Z"
   },
   {
    "duration": 769,
    "start_time": "2022-01-15T20:37:37.715Z"
   },
   {
    "duration": 5,
    "start_time": "2022-01-15T20:38:23.514Z"
   },
   {
    "duration": 1148,
    "start_time": "2022-01-15T20:38:26.901Z"
   },
   {
    "duration": 134,
    "start_time": "2022-01-15T20:40:09.543Z"
   },
   {
    "duration": 13,
    "start_time": "2022-01-15T20:40:16.551Z"
   },
   {
    "duration": 779,
    "start_time": "2022-01-15T20:40:51.664Z"
   },
   {
    "duration": 791,
    "start_time": "2022-01-15T20:41:08.357Z"
   },
   {
    "duration": 3,
    "start_time": "2022-01-15T20:41:28.598Z"
   },
   {
    "duration": 978,
    "start_time": "2022-01-15T20:41:37.981Z"
   },
   {
    "duration": 4,
    "start_time": "2022-01-15T20:41:58.845Z"
   },
   {
    "duration": 2169,
    "start_time": "2022-01-15T20:42:02.252Z"
   },
   {
    "duration": 4,
    "start_time": "2022-01-15T20:42:12.936Z"
   },
   {
    "duration": 795,
    "start_time": "2022-01-15T20:43:04.009Z"
   },
   {
    "duration": 377,
    "start_time": "2022-01-16T06:12:19.824Z"
   },
   {
    "duration": 293,
    "start_time": "2022-01-16T06:12:43.678Z"
   },
   {
    "duration": 297,
    "start_time": "2022-01-16T06:17:22.522Z"
   },
   {
    "duration": 4,
    "start_time": "2022-01-16T06:21:19.577Z"
   },
   {
    "duration": 564,
    "start_time": "2022-01-16T06:21:25.885Z"
   },
   {
    "duration": 617,
    "start_time": "2022-01-16T06:23:48.200Z"
   },
   {
    "duration": 713,
    "start_time": "2022-01-16T06:24:53.600Z"
   },
   {
    "duration": 447,
    "start_time": "2022-01-16T06:32:28.089Z"
   },
   {
    "duration": 477,
    "start_time": "2022-01-16T06:32:54.147Z"
   },
   {
    "duration": 331,
    "start_time": "2022-01-16T06:34:10.195Z"
   },
   {
    "duration": 434,
    "start_time": "2022-01-16T06:35:02.196Z"
   },
   {
    "duration": 5,
    "start_time": "2022-01-16T06:50:44.144Z"
   },
   {
    "duration": 433,
    "start_time": "2022-01-16T06:50:47.722Z"
   },
   {
    "duration": 304,
    "start_time": "2022-01-16T06:50:57.494Z"
   },
   {
    "duration": 298,
    "start_time": "2022-01-16T06:52:02.327Z"
   },
   {
    "duration": 280,
    "start_time": "2022-01-16T06:52:24.670Z"
   },
   {
    "duration": 379,
    "start_time": "2022-01-16T06:53:49.336Z"
   },
   {
    "duration": 356,
    "start_time": "2022-01-16T06:57:42.337Z"
   },
   {
    "duration": 4,
    "start_time": "2022-01-16T06:58:00.581Z"
   },
   {
    "duration": 4,
    "start_time": "2022-01-16T06:58:20.092Z"
   },
   {
    "duration": 4,
    "start_time": "2022-01-16T06:58:28.832Z"
   },
   {
    "duration": 5,
    "start_time": "2022-01-16T06:58:34.445Z"
   },
   {
    "duration": 289,
    "start_time": "2022-01-16T06:58:38.654Z"
   },
   {
    "duration": 295,
    "start_time": "2022-01-16T07:32:08.722Z"
   },
   {
    "duration": 4,
    "start_time": "2022-01-16T07:32:52.925Z"
   },
   {
    "duration": 291,
    "start_time": "2022-01-16T07:34:06.355Z"
   },
   {
    "duration": 371,
    "start_time": "2022-01-16T07:37:17.094Z"
   },
   {
    "duration": 328,
    "start_time": "2022-01-16T07:37:51.774Z"
   },
   {
    "duration": 410,
    "start_time": "2022-01-16T07:38:02.171Z"
   },
   {
    "duration": 295,
    "start_time": "2022-01-16T07:38:28.253Z"
   },
   {
    "duration": 296,
    "start_time": "2022-01-16T07:39:33.202Z"
   },
   {
    "duration": 5,
    "start_time": "2022-01-16T07:39:59.565Z"
   },
   {
    "duration": 617,
    "start_time": "2022-01-16T07:40:02.974Z"
   },
   {
    "duration": 291,
    "start_time": "2022-01-16T07:40:25.828Z"
   },
   {
    "duration": 301,
    "start_time": "2022-01-16T07:40:35.146Z"
   },
   {
    "duration": 289,
    "start_time": "2022-01-16T07:40:41.344Z"
   },
   {
    "duration": 471,
    "start_time": "2022-01-16T07:40:47.413Z"
   },
   {
    "duration": 393,
    "start_time": "2022-01-16T07:40:53.284Z"
   },
   {
    "duration": 298,
    "start_time": "2022-01-16T07:41:04.004Z"
   },
   {
    "duration": 293,
    "start_time": "2022-01-16T07:47:14.931Z"
   },
   {
    "duration": 636,
    "start_time": "2022-01-16T07:47:42.462Z"
   },
   {
    "duration": 306,
    "start_time": "2022-01-16T07:49:01.239Z"
   },
   {
    "duration": 4,
    "start_time": "2022-01-16T07:49:23.632Z"
   },
   {
    "duration": 295,
    "start_time": "2022-01-16T07:49:26.816Z"
   },
   {
    "duration": 4,
    "start_time": "2022-01-16T07:49:39.493Z"
   },
   {
    "duration": 298,
    "start_time": "2022-01-16T07:49:42.673Z"
   },
   {
    "duration": 306,
    "start_time": "2022-01-16T07:50:18.833Z"
   },
   {
    "duration": 5,
    "start_time": "2022-01-16T07:50:35.837Z"
   },
   {
    "duration": 283,
    "start_time": "2022-01-16T07:50:38.300Z"
   },
   {
    "duration": 296,
    "start_time": "2022-01-16T07:53:03.729Z"
   },
   {
    "duration": 380,
    "start_time": "2022-01-16T08:01:13.875Z"
   },
   {
    "duration": 293,
    "start_time": "2022-01-16T08:03:26.635Z"
   },
   {
    "duration": 297,
    "start_time": "2022-01-16T08:04:06.312Z"
   },
   {
    "duration": 105,
    "start_time": "2022-01-16T08:04:13.782Z"
   },
   {
    "duration": 379,
    "start_time": "2022-01-16T08:04:19.534Z"
   },
   {
    "duration": 298,
    "start_time": "2022-01-16T08:04:48.599Z"
   },
   {
    "duration": 4,
    "start_time": "2022-01-16T08:43:54.136Z"
   },
   {
    "duration": 723,
    "start_time": "2022-01-16T08:43:58.056Z"
   },
   {
    "duration": 4,
    "start_time": "2022-01-16T08:44:05.839Z"
   },
   {
    "duration": 591,
    "start_time": "2022-01-16T08:44:08.938Z"
   },
   {
    "duration": 828,
    "start_time": "2022-01-16T08:44:47.704Z"
   },
   {
    "duration": 759,
    "start_time": "2022-01-16T08:57:05.822Z"
   },
   {
    "duration": 186,
    "start_time": "2022-01-16T08:57:06.583Z"
   },
   {
    "duration": 26,
    "start_time": "2022-01-16T08:57:06.775Z"
   },
   {
    "duration": 61,
    "start_time": "2022-01-16T08:57:06.804Z"
   },
   {
    "duration": 5,
    "start_time": "2022-01-16T08:57:06.868Z"
   },
   {
    "duration": 36,
    "start_time": "2022-01-16T08:57:06.875Z"
   },
   {
    "duration": 5,
    "start_time": "2022-01-16T08:57:06.915Z"
   },
   {
    "duration": 67,
    "start_time": "2022-01-16T08:57:06.923Z"
   },
   {
    "duration": 42,
    "start_time": "2022-01-16T08:57:06.993Z"
   },
   {
    "duration": 46,
    "start_time": "2022-01-16T08:57:07.037Z"
   },
   {
    "duration": 101,
    "start_time": "2022-01-16T08:57:07.085Z"
   },
   {
    "duration": 129,
    "start_time": "2022-01-16T08:57:07.188Z"
   },
   {
    "duration": 89,
    "start_time": "2022-01-16T08:57:07.320Z"
   },
   {
    "duration": 16,
    "start_time": "2022-01-16T08:57:07.412Z"
   },
   {
    "duration": 31,
    "start_time": "2022-01-16T08:57:07.431Z"
   },
   {
    "duration": 8322,
    "start_time": "2022-01-16T08:57:07.465Z"
   },
   {
    "duration": -1103,
    "start_time": "2022-01-16T08:57:16.893Z"
   },
   {
    "duration": -1114,
    "start_time": "2022-01-16T08:57:16.906Z"
   },
   {
    "duration": -1123,
    "start_time": "2022-01-16T08:57:16.916Z"
   },
   {
    "duration": -1127,
    "start_time": "2022-01-16T08:57:16.922Z"
   },
   {
    "duration": -1133,
    "start_time": "2022-01-16T08:57:16.929Z"
   },
   {
    "duration": -1139,
    "start_time": "2022-01-16T08:57:16.936Z"
   },
   {
    "duration": -1147,
    "start_time": "2022-01-16T08:57:16.946Z"
   },
   {
    "duration": -1151,
    "start_time": "2022-01-16T08:57:16.951Z"
   },
   {
    "duration": -1155,
    "start_time": "2022-01-16T08:57:16.956Z"
   },
   {
    "duration": -1159,
    "start_time": "2022-01-16T08:57:16.962Z"
   },
   {
    "duration": -1165,
    "start_time": "2022-01-16T08:57:16.969Z"
   },
   {
    "duration": -1182,
    "start_time": "2022-01-16T08:57:16.987Z"
   },
   {
    "duration": -1189,
    "start_time": "2022-01-16T08:57:16.995Z"
   },
   {
    "duration": -1192,
    "start_time": "2022-01-16T08:57:17.000Z"
   },
   {
    "duration": -1197,
    "start_time": "2022-01-16T08:57:17.006Z"
   },
   {
    "duration": -1203,
    "start_time": "2022-01-16T08:57:17.013Z"
   },
   {
    "duration": -1206,
    "start_time": "2022-01-16T08:57:17.018Z"
   },
   {
    "duration": -1211,
    "start_time": "2022-01-16T08:57:17.024Z"
   },
   {
    "duration": -1216,
    "start_time": "2022-01-16T08:57:17.030Z"
   },
   {
    "duration": -1220,
    "start_time": "2022-01-16T08:57:17.036Z"
   },
   {
    "duration": -1227,
    "start_time": "2022-01-16T08:57:17.044Z"
   },
   {
    "duration": -1231,
    "start_time": "2022-01-16T08:57:17.049Z"
   },
   {
    "duration": -1062,
    "start_time": "2022-01-16T08:57:33.843Z"
   },
   {
    "duration": 14,
    "start_time": "2022-01-16T08:58:00.778Z"
   },
   {
    "duration": 7395,
    "start_time": "2022-01-16T08:58:23.120Z"
   },
   {
    "duration": 6,
    "start_time": "2022-01-16T08:59:31.673Z"
   },
   {
    "duration": 20,
    "start_time": "2022-01-16T08:59:33.858Z"
   },
   {
    "duration": 14,
    "start_time": "2022-01-16T08:59:39.432Z"
   },
   {
    "duration": 15,
    "start_time": "2022-01-16T09:10:48.577Z"
   },
   {
    "duration": 98,
    "start_time": "2022-01-16T09:36:43.454Z"
   },
   {
    "duration": 108,
    "start_time": "2022-01-16T09:37:09.195Z"
   },
   {
    "duration": 77,
    "start_time": "2022-01-16T09:37:27.645Z"
   },
   {
    "duration": 47,
    "start_time": "2022-01-16T09:37:51.188Z"
   },
   {
    "duration": 291,
    "start_time": "2022-01-16T09:38:18.129Z"
   },
   {
    "duration": 46,
    "start_time": "2022-01-16T09:38:32.756Z"
   },
   {
    "duration": 17,
    "start_time": "2022-01-16T09:39:03.623Z"
   },
   {
    "duration": 11,
    "start_time": "2022-01-16T09:39:40.235Z"
   },
   {
    "duration": 16,
    "start_time": "2022-01-16T09:42:23.584Z"
   },
   {
    "duration": 15,
    "start_time": "2022-01-16T09:48:31.627Z"
   },
   {
    "duration": 5,
    "start_time": "2022-01-16T10:03:43.898Z"
   },
   {
    "duration": 5,
    "start_time": "2022-01-16T10:04:10.795Z"
   },
   {
    "duration": 286,
    "start_time": "2022-01-16T10:04:28.038Z"
   },
   {
    "duration": 31,
    "start_time": "2022-01-16T10:05:00.274Z"
   },
   {
    "duration": 28,
    "start_time": "2022-01-16T10:05:39.943Z"
   },
   {
    "duration": 29,
    "start_time": "2022-01-16T10:05:57.656Z"
   },
   {
    "duration": 24,
    "start_time": "2022-01-16T10:06:13.349Z"
   },
   {
    "duration": 31,
    "start_time": "2022-01-16T10:06:48.038Z"
   },
   {
    "duration": 27,
    "start_time": "2022-01-16T10:07:10.480Z"
   },
   {
    "duration": 32,
    "start_time": "2022-01-16T10:07:29.974Z"
   },
   {
    "duration": 5,
    "start_time": "2022-01-16T10:07:53.136Z"
   },
   {
    "duration": 27,
    "start_time": "2022-01-16T10:07:56.035Z"
   },
   {
    "duration": 29,
    "start_time": "2022-01-16T10:08:04.229Z"
   },
   {
    "duration": 26,
    "start_time": "2022-01-16T10:08:07.344Z"
   },
   {
    "duration": 24,
    "start_time": "2022-01-16T10:08:10.352Z"
   },
   {
    "duration": 23,
    "start_time": "2022-01-16T10:08:13.870Z"
   },
   {
    "duration": 28,
    "start_time": "2022-01-16T10:08:21.566Z"
   },
   {
    "duration": 25,
    "start_time": "2022-01-16T10:08:24.957Z"
   },
   {
    "duration": 399,
    "start_time": "2022-01-16T10:17:52.460Z"
   },
   {
    "duration": 119,
    "start_time": "2022-01-16T10:18:34.450Z"
   },
   {
    "duration": 599,
    "start_time": "2022-01-16T16:27:58.954Z"
   },
   {
    "duration": 310,
    "start_time": "2022-01-16T16:28:45.112Z"
   },
   {
    "duration": 342,
    "start_time": "2022-01-16T16:28:59.757Z"
   },
   {
    "duration": 300,
    "start_time": "2022-01-16T16:29:17.424Z"
   },
   {
    "duration": 5,
    "start_time": "2022-01-16T16:29:24.403Z"
   },
   {
    "duration": 895,
    "start_time": "2022-01-16T16:29:27.879Z"
   },
   {
    "duration": 1134,
    "start_time": "2022-01-16T16:29:47.329Z"
   },
   {
    "duration": 320,
    "start_time": "2022-01-16T16:29:48.467Z"
   },
   {
    "duration": 40,
    "start_time": "2022-01-16T16:29:48.791Z"
   },
   {
    "duration": 75,
    "start_time": "2022-01-16T16:29:48.835Z"
   },
   {
    "duration": 6,
    "start_time": "2022-01-16T16:29:48.913Z"
   },
   {
    "duration": 64,
    "start_time": "2022-01-16T16:29:48.922Z"
   },
   {
    "duration": 18,
    "start_time": "2022-01-16T16:29:48.989Z"
   },
   {
    "duration": 31,
    "start_time": "2022-01-16T16:29:49.012Z"
   },
   {
    "duration": 45,
    "start_time": "2022-01-16T16:29:49.064Z"
   },
   {
    "duration": 30,
    "start_time": "2022-01-16T16:29:49.112Z"
   },
   {
    "duration": 99,
    "start_time": "2022-01-16T16:29:49.166Z"
   },
   {
    "duration": 208,
    "start_time": "2022-01-16T16:29:49.269Z"
   },
   {
    "duration": 157,
    "start_time": "2022-01-16T16:29:49.481Z"
   },
   {
    "duration": 33,
    "start_time": "2022-01-16T16:29:49.641Z"
   },
   {
    "duration": 6,
    "start_time": "2022-01-16T16:29:49.677Z"
   },
   {
    "duration": 17,
    "start_time": "2022-01-16T16:29:49.685Z"
   },
   {
    "duration": 15,
    "start_time": "2022-01-16T16:29:49.704Z"
   },
   {
    "duration": 49,
    "start_time": "2022-01-16T16:29:49.721Z"
   },
   {
    "duration": 16,
    "start_time": "2022-01-16T16:29:49.773Z"
   },
   {
    "duration": 6,
    "start_time": "2022-01-16T16:29:49.792Z"
   },
   {
    "duration": 69,
    "start_time": "2022-01-16T16:29:49.801Z"
   },
   {
    "duration": 26,
    "start_time": "2022-01-16T16:29:49.874Z"
   },
   {
    "duration": 59,
    "start_time": "2022-01-16T16:29:49.905Z"
   },
   {
    "duration": 24,
    "start_time": "2022-01-16T16:29:49.967Z"
   },
   {
    "duration": 28,
    "start_time": "2022-01-16T16:29:49.994Z"
   },
   {
    "duration": 59,
    "start_time": "2022-01-16T16:29:50.024Z"
   },
   {
    "duration": 152,
    "start_time": "2022-01-16T16:29:50.086Z"
   },
   {
    "duration": 23,
    "start_time": "2022-01-16T16:29:50.240Z"
   },
   {
    "duration": 103,
    "start_time": "2022-01-16T16:29:50.266Z"
   },
   {
    "duration": -1057,
    "start_time": "2022-01-16T16:29:51.428Z"
   },
   {
    "duration": -1057,
    "start_time": "2022-01-16T16:29:51.430Z"
   },
   {
    "duration": -1058,
    "start_time": "2022-01-16T16:29:51.432Z"
   },
   {
    "duration": -1071,
    "start_time": "2022-01-16T16:29:51.447Z"
   },
   {
    "duration": -1071,
    "start_time": "2022-01-16T16:29:51.449Z"
   },
   {
    "duration": -1072,
    "start_time": "2022-01-16T16:29:51.451Z"
   },
   {
    "duration": -1071,
    "start_time": "2022-01-16T16:29:51.452Z"
   },
   {
    "duration": -1073,
    "start_time": "2022-01-16T16:29:51.455Z"
   },
   {
    "duration": -1073,
    "start_time": "2022-01-16T16:29:51.457Z"
   },
   {
    "duration": 18,
    "start_time": "2022-01-16T16:30:01.424Z"
   },
   {
    "duration": 137,
    "start_time": "2022-01-16T16:30:05.361Z"
   },
   {
    "duration": 13,
    "start_time": "2022-01-16T16:30:27.104Z"
   },
   {
    "duration": 423,
    "start_time": "2022-01-16T16:30:40.174Z"
   },
   {
    "duration": 30,
    "start_time": "2022-01-16T16:30:45.659Z"
   },
   {
    "duration": 17,
    "start_time": "2022-01-16T16:30:57.422Z"
   },
   {
    "duration": 8,
    "start_time": "2022-01-16T16:52:24.265Z"
   },
   {
    "duration": 11,
    "start_time": "2022-01-16T16:53:41.319Z"
   },
   {
    "duration": 25,
    "start_time": "2022-01-16T16:54:12.059Z"
   },
   {
    "duration": 18,
    "start_time": "2022-01-16T16:54:55.246Z"
   },
   {
    "duration": 23,
    "start_time": "2022-01-16T16:55:36.232Z"
   },
   {
    "duration": 18,
    "start_time": "2022-01-16T16:55:58.714Z"
   },
   {
    "duration": 317,
    "start_time": "2022-01-16T17:12:04.289Z"
   },
   {
    "duration": 351,
    "start_time": "2022-01-16T17:12:11.190Z"
   },
   {
    "duration": 336,
    "start_time": "2022-01-16T17:12:25.425Z"
   },
   {
    "duration": 345,
    "start_time": "2022-01-16T17:13:23.952Z"
   },
   {
    "duration": 48,
    "start_time": "2022-01-16T17:14:47.085Z"
   },
   {
    "duration": 13,
    "start_time": "2022-01-16T17:15:11.789Z"
   },
   {
    "duration": 461,
    "start_time": "2022-01-16T17:15:50.013Z"
   },
   {
    "duration": 372,
    "start_time": "2022-01-16T17:16:01.247Z"
   },
   {
    "duration": 13,
    "start_time": "2022-01-16T17:17:45.534Z"
   },
   {
    "duration": 7,
    "start_time": "2022-01-16T17:17:48.973Z"
   },
   {
    "duration": 10,
    "start_time": "2022-01-16T17:21:06.376Z"
   },
   {
    "duration": 7,
    "start_time": "2022-01-16T17:21:09.817Z"
   },
   {
    "duration": 26,
    "start_time": "2022-01-16T17:23:52.725Z"
   },
   {
    "duration": 599,
    "start_time": "2022-01-19T17:08:32.980Z"
   },
   {
    "duration": 137,
    "start_time": "2022-01-19T17:08:33.581Z"
   },
   {
    "duration": 15,
    "start_time": "2022-01-19T17:08:33.721Z"
   },
   {
    "duration": 28,
    "start_time": "2022-01-19T17:08:33.738Z"
   },
   {
    "duration": 17,
    "start_time": "2022-01-19T17:08:33.768Z"
   },
   {
    "duration": 41,
    "start_time": "2022-01-19T17:08:33.786Z"
   },
   {
    "duration": 8,
    "start_time": "2022-01-19T17:08:33.829Z"
   },
   {
    "duration": 35,
    "start_time": "2022-01-19T17:08:33.839Z"
   },
   {
    "duration": 37,
    "start_time": "2022-01-19T17:08:33.876Z"
   },
   {
    "duration": 23,
    "start_time": "2022-01-19T17:08:33.915Z"
   },
   {
    "duration": 77,
    "start_time": "2022-01-19T17:08:33.939Z"
   },
   {
    "duration": 77,
    "start_time": "2022-01-19T17:08:34.018Z"
   },
   {
    "duration": 51,
    "start_time": "2022-01-19T17:08:34.097Z"
   },
   {
    "duration": 22,
    "start_time": "2022-01-19T17:08:34.150Z"
   },
   {
    "duration": 3,
    "start_time": "2022-01-19T17:08:34.173Z"
   },
   {
    "duration": 10,
    "start_time": "2022-01-19T17:08:34.178Z"
   },
   {
    "duration": 9,
    "start_time": "2022-01-19T17:08:34.190Z"
   },
   {
    "duration": 11,
    "start_time": "2022-01-19T17:08:34.201Z"
   },
   {
    "duration": 11,
    "start_time": "2022-01-19T17:08:34.214Z"
   },
   {
    "duration": 3,
    "start_time": "2022-01-19T17:08:34.227Z"
   },
   {
    "duration": 55,
    "start_time": "2022-01-19T17:08:34.232Z"
   },
   {
    "duration": 19,
    "start_time": "2022-01-19T17:08:34.288Z"
   },
   {
    "duration": 21,
    "start_time": "2022-01-19T17:08:34.310Z"
   },
   {
    "duration": 44,
    "start_time": "2022-01-19T17:08:34.333Z"
   },
   {
    "duration": 27,
    "start_time": "2022-01-19T17:08:34.379Z"
   },
   {
    "duration": 20,
    "start_time": "2022-01-19T17:08:34.408Z"
   },
   {
    "duration": 119,
    "start_time": "2022-01-19T17:08:34.429Z"
   },
   {
    "duration": 9,
    "start_time": "2022-01-19T17:08:34.549Z"
   },
   {
    "duration": 16,
    "start_time": "2022-01-19T17:08:34.560Z"
   },
   {
    "duration": 4,
    "start_time": "2022-01-19T17:08:34.578Z"
   },
   {
    "duration": 23,
    "start_time": "2022-01-19T17:08:34.584Z"
   },
   {
    "duration": 13,
    "start_time": "2022-01-19T17:08:34.608Z"
   },
   {
    "duration": 16,
    "start_time": "2022-01-19T17:08:34.623Z"
   },
   {
    "duration": 41,
    "start_time": "2022-01-19T17:08:34.641Z"
   },
   {
    "duration": 8,
    "start_time": "2022-01-19T17:08:34.684Z"
   },
   {
    "duration": 4,
    "start_time": "2022-01-19T17:08:34.694Z"
   },
   {
    "duration": 9,
    "start_time": "2022-01-19T17:08:34.699Z"
   },
   {
    "duration": 7,
    "start_time": "2022-01-19T17:08:34.709Z"
   },
   {
    "duration": 3,
    "start_time": "2022-01-19T17:35:39.277Z"
   },
   {
    "duration": 134,
    "start_time": "2022-01-19T17:35:39.281Z"
   },
   {
    "duration": 10,
    "start_time": "2022-01-19T17:35:39.417Z"
   },
   {
    "duration": 23,
    "start_time": "2022-01-19T17:35:39.429Z"
   },
   {
    "duration": 18,
    "start_time": "2022-01-19T17:35:39.453Z"
   },
   {
    "duration": 14,
    "start_time": "2022-01-19T17:35:39.473Z"
   },
   {
    "duration": 3,
    "start_time": "2022-01-19T17:35:39.489Z"
   },
   {
    "duration": 22,
    "start_time": "2022-01-19T17:35:39.494Z"
   },
   {
    "duration": 55,
    "start_time": "2022-01-19T17:35:39.518Z"
   },
   {
    "duration": 24,
    "start_time": "2022-01-19T17:35:39.574Z"
   },
   {
    "duration": 52,
    "start_time": "2022-01-19T17:35:39.599Z"
   },
   {
    "duration": 74,
    "start_time": "2022-01-19T17:35:39.652Z"
   },
   {
    "duration": 60,
    "start_time": "2022-01-19T17:35:39.728Z"
   },
   {
    "duration": 10,
    "start_time": "2022-01-19T17:35:39.789Z"
   },
   {
    "duration": 3,
    "start_time": "2022-01-19T17:35:39.800Z"
   },
   {
    "duration": 10,
    "start_time": "2022-01-19T17:35:39.805Z"
   },
   {
    "duration": 9,
    "start_time": "2022-01-19T17:35:39.816Z"
   },
   {
    "duration": 10,
    "start_time": "2022-01-19T17:35:39.826Z"
   },
   {
    "duration": 39,
    "start_time": "2022-01-19T17:35:39.837Z"
   },
   {
    "duration": 3,
    "start_time": "2022-01-19T17:35:39.878Z"
   },
   {
    "duration": 32,
    "start_time": "2022-01-19T17:35:39.883Z"
   },
   {
    "duration": 17,
    "start_time": "2022-01-19T17:35:39.916Z"
   },
   {
    "duration": 16,
    "start_time": "2022-01-19T17:35:39.934Z"
   },
   {
    "duration": 17,
    "start_time": "2022-01-19T17:35:39.972Z"
   },
   {
    "duration": 18,
    "start_time": "2022-01-19T17:35:39.991Z"
   },
   {
    "duration": 18,
    "start_time": "2022-01-19T17:35:40.011Z"
   },
   {
    "duration": 122,
    "start_time": "2022-01-19T17:35:40.031Z"
   },
   {
    "duration": 27,
    "start_time": "2022-01-19T17:35:40.155Z"
   },
   {
    "duration": 12,
    "start_time": "2022-01-19T17:35:40.183Z"
   },
   {
    "duration": 3,
    "start_time": "2022-01-19T17:35:40.197Z"
   },
   {
    "duration": 22,
    "start_time": "2022-01-19T17:35:40.202Z"
   },
   {
    "duration": 11,
    "start_time": "2022-01-19T17:35:40.225Z"
   },
   {
    "duration": 42,
    "start_time": "2022-01-19T17:35:40.238Z"
   },
   {
    "duration": 13,
    "start_time": "2022-01-19T17:35:40.282Z"
   },
   {
    "duration": 8,
    "start_time": "2022-01-19T17:35:40.296Z"
   },
   {
    "duration": 5,
    "start_time": "2022-01-19T17:35:40.305Z"
   },
   {
    "duration": 16,
    "start_time": "2022-01-19T17:35:40.312Z"
   },
   {
    "duration": 9,
    "start_time": "2022-01-19T17:35:40.330Z"
   },
   {
    "duration": 1495,
    "start_time": "2022-01-19T17:35:51.390Z"
   },
   {
    "duration": 132,
    "start_time": "2022-01-19T17:35:52.887Z"
   },
   {
    "duration": 16,
    "start_time": "2022-01-19T17:35:53.021Z"
   },
   {
    "duration": 52,
    "start_time": "2022-01-19T17:35:53.038Z"
   },
   {
    "duration": 24,
    "start_time": "2022-01-19T17:35:53.092Z"
   },
   {
    "duration": 47,
    "start_time": "2022-01-19T17:35:53.118Z"
   },
   {
    "duration": 23,
    "start_time": "2022-01-19T17:35:53.167Z"
   },
   {
    "duration": 40,
    "start_time": "2022-01-19T17:35:53.192Z"
   },
   {
    "duration": 53,
    "start_time": "2022-01-19T17:35:53.234Z"
   },
   {
    "duration": 32,
    "start_time": "2022-01-19T17:35:53.289Z"
   },
   {
    "duration": 76,
    "start_time": "2022-01-19T17:35:53.323Z"
   },
   {
    "duration": 72,
    "start_time": "2022-01-19T17:35:53.400Z"
   },
   {
    "duration": 48,
    "start_time": "2022-01-19T17:35:53.473Z"
   },
   {
    "duration": 8,
    "start_time": "2022-01-19T17:35:53.523Z"
   },
   {
    "duration": 28,
    "start_time": "2022-01-19T17:35:53.532Z"
   },
   {
    "duration": 32,
    "start_time": "2022-01-19T17:35:53.562Z"
   },
   {
    "duration": 25,
    "start_time": "2022-01-19T17:35:53.596Z"
   },
   {
    "duration": 37,
    "start_time": "2022-01-19T17:35:53.623Z"
   },
   {
    "duration": 26,
    "start_time": "2022-01-19T17:35:53.661Z"
   },
   {
    "duration": 22,
    "start_time": "2022-01-19T17:35:53.689Z"
   },
   {
    "duration": 52,
    "start_time": "2022-01-19T17:35:53.712Z"
   },
   {
    "duration": 24,
    "start_time": "2022-01-19T17:35:53.767Z"
   },
   {
    "duration": 46,
    "start_time": "2022-01-19T17:35:53.794Z"
   },
   {
    "duration": 37,
    "start_time": "2022-01-19T17:35:53.842Z"
   },
   {
    "duration": 37,
    "start_time": "2022-01-19T17:35:53.880Z"
   },
   {
    "duration": 38,
    "start_time": "2022-01-19T17:35:53.918Z"
   },
   {
    "duration": 104,
    "start_time": "2022-01-19T17:35:53.957Z"
   },
   {
    "duration": 10,
    "start_time": "2022-01-19T17:35:54.062Z"
   },
   {
    "duration": 35,
    "start_time": "2022-01-19T17:35:54.073Z"
   },
   {
    "duration": 28,
    "start_time": "2022-01-19T17:35:54.109Z"
   },
   {
    "duration": 65,
    "start_time": "2022-01-19T17:35:54.138Z"
   },
   {
    "duration": 44,
    "start_time": "2022-01-19T17:35:54.205Z"
   },
   {
    "duration": 33,
    "start_time": "2022-01-19T17:35:54.251Z"
   },
   {
    "duration": 20,
    "start_time": "2022-01-19T17:35:54.286Z"
   },
   {
    "duration": 32,
    "start_time": "2022-01-19T17:35:54.308Z"
   },
   {
    "duration": 25,
    "start_time": "2022-01-19T17:35:54.341Z"
   },
   {
    "duration": 31,
    "start_time": "2022-01-19T17:35:54.368Z"
   },
   {
    "duration": 21,
    "start_time": "2022-01-19T17:35:54.400Z"
   },
   {
    "duration": 349,
    "start_time": "2022-01-19T19:04:47.247Z"
   },
   {
    "duration": 751,
    "start_time": "2022-01-19T19:05:04.142Z"
   },
   {
    "duration": 179,
    "start_time": "2022-01-19T19:05:04.896Z"
   },
   {
    "duration": 27,
    "start_time": "2022-01-19T19:05:05.078Z"
   },
   {
    "duration": 46,
    "start_time": "2022-01-19T19:05:05.108Z"
   },
   {
    "duration": 5,
    "start_time": "2022-01-19T19:05:05.156Z"
   },
   {
    "duration": 24,
    "start_time": "2022-01-19T19:05:05.163Z"
   },
   {
    "duration": 38,
    "start_time": "2022-01-19T19:05:05.189Z"
   },
   {
    "duration": 32,
    "start_time": "2022-01-19T19:05:05.230Z"
   },
   {
    "duration": 66,
    "start_time": "2022-01-19T19:05:05.265Z"
   },
   {
    "duration": 28,
    "start_time": "2022-01-19T19:05:05.333Z"
   },
   {
    "duration": 100,
    "start_time": "2022-01-19T19:05:05.363Z"
   },
   {
    "duration": 107,
    "start_time": "2022-01-19T19:05:05.465Z"
   },
   {
    "duration": 81,
    "start_time": "2022-01-19T19:05:05.574Z"
   },
   {
    "duration": 14,
    "start_time": "2022-01-19T19:05:05.657Z"
   },
   {
    "duration": 4,
    "start_time": "2022-01-19T19:05:05.673Z"
   },
   {
    "duration": 44,
    "start_time": "2022-01-19T19:05:05.680Z"
   },
   {
    "duration": 13,
    "start_time": "2022-01-19T19:05:05.726Z"
   },
   {
    "duration": 14,
    "start_time": "2022-01-19T19:05:05.742Z"
   },
   {
    "duration": 19,
    "start_time": "2022-01-19T19:05:05.759Z"
   },
   {
    "duration": 4,
    "start_time": "2022-01-19T19:05:05.781Z"
   },
   {
    "duration": 58,
    "start_time": "2022-01-19T19:05:05.788Z"
   },
   {
    "duration": 23,
    "start_time": "2022-01-19T19:05:05.849Z"
   },
   {
    "duration": 60,
    "start_time": "2022-01-19T19:05:05.876Z"
   },
   {
    "duration": 23,
    "start_time": "2022-01-19T19:05:05.939Z"
   },
   {
    "duration": 59,
    "start_time": "2022-01-19T19:05:05.964Z"
   },
   {
    "duration": 23,
    "start_time": "2022-01-19T19:05:06.026Z"
   },
   {
    "duration": 136,
    "start_time": "2022-01-19T19:05:06.052Z"
   },
   {
    "duration": 14,
    "start_time": "2022-01-19T19:05:06.190Z"
   },
   {
    "duration": 24,
    "start_time": "2022-01-19T19:05:06.206Z"
   },
   {
    "duration": 5,
    "start_time": "2022-01-19T19:05:06.232Z"
   },
   {
    "duration": 32,
    "start_time": "2022-01-19T19:05:06.240Z"
   },
   {
    "duration": 15,
    "start_time": "2022-01-19T19:05:06.275Z"
   },
   {
    "duration": 51,
    "start_time": "2022-01-19T19:05:06.292Z"
   },
   {
    "duration": 17,
    "start_time": "2022-01-19T19:05:06.345Z"
   },
   {
    "duration": 13,
    "start_time": "2022-01-19T19:05:06.365Z"
   },
   {
    "duration": 44,
    "start_time": "2022-01-19T19:05:06.381Z"
   },
   {
    "duration": 11,
    "start_time": "2022-01-19T19:05:06.428Z"
   },
   {
    "duration": 9,
    "start_time": "2022-01-19T19:05:06.442Z"
   },
   {
    "duration": 5,
    "start_time": "2022-01-19T19:06:05.149Z"
   },
   {
    "duration": 30,
    "start_time": "2022-01-19T19:07:09.531Z"
   },
   {
    "duration": 27,
    "start_time": "2022-01-19T19:07:16.014Z"
   },
   {
    "duration": 69,
    "start_time": "2022-01-19T19:07:48.491Z"
   },
   {
    "duration": 21,
    "start_time": "2022-01-19T19:08:03.128Z"
   },
   {
    "duration": 58,
    "start_time": "2022-01-19T19:09:19.879Z"
   },
   {
    "duration": 26,
    "start_time": "2022-01-19T19:10:21.823Z"
   },
   {
    "duration": 6,
    "start_time": "2022-01-19T19:13:34.688Z"
   },
   {
    "duration": 21,
    "start_time": "2022-01-19T19:13:37.910Z"
   },
   {
    "duration": 20,
    "start_time": "2022-01-19T19:13:46.226Z"
   },
   {
    "duration": 18,
    "start_time": "2022-01-19T19:13:49.299Z"
   },
   {
    "duration": 19,
    "start_time": "2022-01-19T19:13:53.242Z"
   },
   {
    "duration": 23,
    "start_time": "2022-01-19T19:13:56.896Z"
   },
   {
    "duration": 21,
    "start_time": "2022-01-19T19:14:00.524Z"
   },
   {
    "duration": 91,
    "start_time": "2022-01-19T19:14:09.029Z"
   },
   {
    "duration": 86,
    "start_time": "2022-01-19T19:15:00.158Z"
   },
   {
    "duration": 90,
    "start_time": "2022-01-19T19:15:51.252Z"
   },
   {
    "duration": 20,
    "start_time": "2022-01-19T19:19:37.167Z"
   },
   {
    "duration": 17,
    "start_time": "2022-01-19T19:19:41.342Z"
   },
   {
    "duration": 19,
    "start_time": "2022-01-19T19:19:45.937Z"
   },
   {
    "duration": 16,
    "start_time": "2022-01-19T19:19:53.924Z"
   },
   {
    "duration": 17,
    "start_time": "2022-01-19T19:19:55.597Z"
   },
   {
    "duration": 16,
    "start_time": "2022-01-19T19:19:56.499Z"
   },
   {
    "duration": 16,
    "start_time": "2022-01-19T19:20:00.179Z"
   },
   {
    "duration": 20,
    "start_time": "2022-01-19T19:20:01.897Z"
   },
   {
    "duration": 19,
    "start_time": "2022-01-19T19:20:18.540Z"
   },
   {
    "duration": 19,
    "start_time": "2022-01-19T19:20:32.732Z"
   },
   {
    "duration": 66,
    "start_time": "2022-01-19T19:21:37.359Z"
   },
   {
    "duration": 15,
    "start_time": "2022-01-19T19:22:23.524Z"
   },
   {
    "duration": 7,
    "start_time": "2022-01-19T19:22:58.352Z"
   },
   {
    "duration": 11,
    "start_time": "2022-01-19T19:23:05.827Z"
   },
   {
    "duration": 21,
    "start_time": "2022-01-19T19:23:29.836Z"
   },
   {
    "duration": 27,
    "start_time": "2022-01-19T19:23:47.549Z"
   },
   {
    "duration": 26,
    "start_time": "2022-01-19T19:24:06.136Z"
   },
   {
    "duration": 20,
    "start_time": "2022-01-19T19:24:25.278Z"
   },
   {
    "duration": 27,
    "start_time": "2022-01-19T19:24:52.754Z"
   },
   {
    "duration": 31,
    "start_time": "2022-01-19T19:25:04.005Z"
   },
   {
    "duration": 8,
    "start_time": "2022-01-19T19:27:39.637Z"
   },
   {
    "duration": 31,
    "start_time": "2022-01-19T19:28:48.685Z"
   },
   {
    "duration": 28,
    "start_time": "2022-01-19T19:29:23.703Z"
   },
   {
    "duration": 104,
    "start_time": "2022-01-19T19:29:45.114Z"
   },
   {
    "duration": 59,
    "start_time": "2022-01-19T19:30:29.439Z"
   },
   {
    "duration": 13,
    "start_time": "2022-01-19T19:31:08.533Z"
   },
   {
    "duration": 574,
    "start_time": "2022-01-19T21:28:06.368Z"
   },
   {
    "duration": 133,
    "start_time": "2022-01-19T21:28:06.944Z"
   },
   {
    "duration": 17,
    "start_time": "2022-01-19T21:28:07.079Z"
   },
   {
    "duration": 34,
    "start_time": "2022-01-19T21:28:07.098Z"
   },
   {
    "duration": 8,
    "start_time": "2022-01-19T21:28:07.134Z"
   },
   {
    "duration": 31,
    "start_time": "2022-01-19T21:28:07.144Z"
   },
   {
    "duration": 8,
    "start_time": "2022-01-19T21:28:07.176Z"
   },
   {
    "duration": 25,
    "start_time": "2022-01-19T21:28:07.186Z"
   },
   {
    "duration": 15,
    "start_time": "2022-01-19T21:28:07.214Z"
   },
   {
    "duration": 24,
    "start_time": "2022-01-19T21:28:07.231Z"
   },
   {
    "duration": 68,
    "start_time": "2022-01-19T21:28:07.256Z"
   },
   {
    "duration": 77,
    "start_time": "2022-01-19T21:28:07.326Z"
   },
   {
    "duration": 47,
    "start_time": "2022-01-19T21:28:07.405Z"
   },
   {
    "duration": 50,
    "start_time": "2022-01-19T21:28:07.454Z"
   },
   {
    "duration": 7,
    "start_time": "2022-01-19T21:28:07.506Z"
   },
   {
    "duration": 25,
    "start_time": "2022-01-19T21:28:07.514Z"
   },
   {
    "duration": 37,
    "start_time": "2022-01-19T21:28:07.541Z"
   },
   {
    "duration": 20,
    "start_time": "2022-01-19T21:28:07.580Z"
   },
   {
    "duration": 10,
    "start_time": "2022-01-19T21:28:07.602Z"
   },
   {
    "duration": 11,
    "start_time": "2022-01-19T21:28:07.614Z"
   },
   {
    "duration": 30,
    "start_time": "2022-01-19T21:28:07.626Z"
   },
   {
    "duration": 13,
    "start_time": "2022-01-19T21:28:07.657Z"
   },
   {
    "duration": 22,
    "start_time": "2022-01-19T21:28:07.672Z"
   },
   {
    "duration": 16,
    "start_time": "2022-01-19T21:28:07.695Z"
   },
   {
    "duration": 15,
    "start_time": "2022-01-19T21:28:07.713Z"
   },
   {
    "duration": 15,
    "start_time": "2022-01-19T21:28:07.730Z"
   },
   {
    "duration": 266,
    "start_time": "2022-01-19T21:28:07.748Z"
   },
   {
    "duration": 47,
    "start_time": "2022-01-19T21:28:07.969Z"
   },
   {
    "duration": 43,
    "start_time": "2022-01-19T21:28:07.974Z"
   },
   {
    "duration": 39,
    "start_time": "2022-01-19T21:28:07.979Z"
   },
   {
    "duration": 34,
    "start_time": "2022-01-19T21:28:07.985Z"
   },
   {
    "duration": 31,
    "start_time": "2022-01-19T21:28:07.990Z"
   },
   {
    "duration": 27,
    "start_time": "2022-01-19T21:28:07.995Z"
   },
   {
    "duration": 24,
    "start_time": "2022-01-19T21:28:07.999Z"
   },
   {
    "duration": 19,
    "start_time": "2022-01-19T21:28:08.005Z"
   },
   {
    "duration": -7,
    "start_time": "2022-01-19T21:28:08.032Z"
   },
   {
    "duration": -13,
    "start_time": "2022-01-19T21:28:08.039Z"
   },
   {
    "duration": -16,
    "start_time": "2022-01-19T21:28:08.043Z"
   },
   {
    "duration": 573,
    "start_time": "2022-01-19T21:33:40.951Z"
   },
   {
    "duration": 127,
    "start_time": "2022-01-19T21:33:41.525Z"
   },
   {
    "duration": 17,
    "start_time": "2022-01-19T21:33:41.655Z"
   },
   {
    "duration": 24,
    "start_time": "2022-01-19T21:33:41.674Z"
   },
   {
    "duration": 4,
    "start_time": "2022-01-19T21:33:41.699Z"
   },
   {
    "duration": 18,
    "start_time": "2022-01-19T21:33:41.704Z"
   },
   {
    "duration": 3,
    "start_time": "2022-01-19T21:33:41.724Z"
   },
   {
    "duration": 43,
    "start_time": "2022-01-19T21:33:41.729Z"
   },
   {
    "duration": 16,
    "start_time": "2022-01-19T21:33:41.774Z"
   },
   {
    "duration": 20,
    "start_time": "2022-01-19T21:33:41.791Z"
   },
   {
    "duration": 70,
    "start_time": "2022-01-19T21:33:41.813Z"
   },
   {
    "duration": 64,
    "start_time": "2022-01-19T21:33:41.885Z"
   },
   {
    "duration": 56,
    "start_time": "2022-01-19T21:33:41.951Z"
   },
   {
    "duration": 37,
    "start_time": "2022-01-19T21:33:42.009Z"
   },
   {
    "duration": 3,
    "start_time": "2022-01-19T21:33:42.047Z"
   },
   {
    "duration": 26,
    "start_time": "2022-01-19T21:33:42.051Z"
   },
   {
    "duration": 36,
    "start_time": "2022-01-19T21:33:42.079Z"
   },
   {
    "duration": 10,
    "start_time": "2022-01-19T21:33:42.116Z"
   },
   {
    "duration": 9,
    "start_time": "2022-01-19T21:33:42.128Z"
   },
   {
    "duration": 3,
    "start_time": "2022-01-19T21:33:42.139Z"
   },
   {
    "duration": 16,
    "start_time": "2022-01-19T21:33:42.171Z"
   },
   {
    "duration": 13,
    "start_time": "2022-01-19T21:33:42.188Z"
   },
   {
    "duration": 13,
    "start_time": "2022-01-19T21:33:42.206Z"
   },
   {
    "duration": 13,
    "start_time": "2022-01-19T21:33:42.222Z"
   },
   {
    "duration": 50,
    "start_time": "2022-01-19T21:33:42.236Z"
   },
   {
    "duration": 13,
    "start_time": "2022-01-19T21:33:42.287Z"
   },
   {
    "duration": 297,
    "start_time": "2022-01-19T21:33:42.301Z"
   },
   {
    "duration": 69,
    "start_time": "2022-01-19T21:33:42.531Z"
   },
   {
    "duration": 64,
    "start_time": "2022-01-19T21:33:42.537Z"
   },
   {
    "duration": 59,
    "start_time": "2022-01-19T21:33:42.543Z"
   },
   {
    "duration": 55,
    "start_time": "2022-01-19T21:33:42.548Z"
   },
   {
    "duration": 21,
    "start_time": "2022-01-19T21:33:42.582Z"
   },
   {
    "duration": 18,
    "start_time": "2022-01-19T21:33:42.586Z"
   },
   {
    "duration": 14,
    "start_time": "2022-01-19T21:33:42.591Z"
   },
   {
    "duration": 11,
    "start_time": "2022-01-19T21:33:42.595Z"
   },
   {
    "duration": 6,
    "start_time": "2022-01-19T21:33:42.600Z"
   },
   {
    "duration": 2,
    "start_time": "2022-01-19T21:33:42.605Z"
   },
   {
    "duration": -1,
    "start_time": "2022-01-19T21:33:42.609Z"
   },
   {
    "duration": 238,
    "start_time": "2022-01-20T03:31:57.604Z"
   },
   {
    "duration": 201,
    "start_time": "2022-01-20T03:32:14.020Z"
   },
   {
    "duration": 565,
    "start_time": "2022-01-20T03:32:31.610Z"
   },
   {
    "duration": 121,
    "start_time": "2022-01-20T03:32:32.176Z"
   },
   {
    "duration": 19,
    "start_time": "2022-01-20T03:32:32.299Z"
   },
   {
    "duration": 22,
    "start_time": "2022-01-20T03:32:32.320Z"
   },
   {
    "duration": 7,
    "start_time": "2022-01-20T03:32:32.343Z"
   },
   {
    "duration": 19,
    "start_time": "2022-01-20T03:32:32.352Z"
   },
   {
    "duration": 3,
    "start_time": "2022-01-20T03:32:32.373Z"
   },
   {
    "duration": 42,
    "start_time": "2022-01-20T03:32:32.378Z"
   },
   {
    "duration": 15,
    "start_time": "2022-01-20T03:32:32.422Z"
   },
   {
    "duration": 19,
    "start_time": "2022-01-20T03:32:32.439Z"
   },
   {
    "duration": 78,
    "start_time": "2022-01-20T03:32:32.459Z"
   },
   {
    "duration": 74,
    "start_time": "2022-01-20T03:32:32.539Z"
   },
   {
    "duration": 49,
    "start_time": "2022-01-20T03:32:32.615Z"
   },
   {
    "duration": 53,
    "start_time": "2022-01-20T03:32:32.666Z"
   },
   {
    "duration": 3,
    "start_time": "2022-01-20T03:32:32.721Z"
   },
   {
    "duration": 11,
    "start_time": "2022-01-20T03:32:32.726Z"
   },
   {
    "duration": 41,
    "start_time": "2022-01-20T03:32:32.739Z"
   },
   {
    "duration": 39,
    "start_time": "2022-01-20T03:32:32.782Z"
   },
   {
    "duration": 9,
    "start_time": "2022-01-20T03:32:32.823Z"
   },
   {
    "duration": 3,
    "start_time": "2022-01-20T03:32:32.834Z"
   },
   {
    "duration": 18,
    "start_time": "2022-01-20T03:32:32.839Z"
   },
   {
    "duration": 11,
    "start_time": "2022-01-20T03:32:32.859Z"
   },
   {
    "duration": 42,
    "start_time": "2022-01-20T03:32:32.872Z"
   },
   {
    "duration": 12,
    "start_time": "2022-01-20T03:32:32.916Z"
   },
   {
    "duration": 13,
    "start_time": "2022-01-20T03:32:32.930Z"
   },
   {
    "duration": 11,
    "start_time": "2022-01-20T03:32:32.945Z"
   },
   {
    "duration": 240,
    "start_time": "2022-01-20T03:32:32.959Z"
   },
   {
    "duration": -1006,
    "start_time": "2022-01-20T03:32:34.207Z"
   },
   {
    "duration": -1010,
    "start_time": "2022-01-20T03:32:34.212Z"
   },
   {
    "duration": -1012,
    "start_time": "2022-01-20T03:32:34.216Z"
   },
   {
    "duration": -1016,
    "start_time": "2022-01-20T03:32:34.220Z"
   },
   {
    "duration": -1023,
    "start_time": "2022-01-20T03:32:34.228Z"
   },
   {
    "duration": -1026,
    "start_time": "2022-01-20T03:32:34.232Z"
   },
   {
    "duration": -1028,
    "start_time": "2022-01-20T03:32:34.235Z"
   },
   {
    "duration": -1031,
    "start_time": "2022-01-20T03:32:34.239Z"
   },
   {
    "duration": -1034,
    "start_time": "2022-01-20T03:32:34.243Z"
   },
   {
    "duration": -1036,
    "start_time": "2022-01-20T03:32:34.246Z"
   },
   {
    "duration": -1038,
    "start_time": "2022-01-20T03:32:34.249Z"
   },
   {
    "duration": 188,
    "start_time": "2022-01-20T03:32:47.765Z"
   },
   {
    "duration": 245,
    "start_time": "2022-01-20T03:33:53.323Z"
   },
   {
    "duration": 7,
    "start_time": "2022-01-20T03:35:08.184Z"
   },
   {
    "duration": 194,
    "start_time": "2022-01-20T03:36:49.208Z"
   },
   {
    "duration": 4,
    "start_time": "2022-01-20T03:36:56.219Z"
   },
   {
    "duration": 198,
    "start_time": "2022-01-20T03:36:59.728Z"
   },
   {
    "duration": 2,
    "start_time": "2022-01-20T03:38:10.163Z"
   },
   {
    "duration": 122,
    "start_time": "2022-01-20T03:38:10.174Z"
   },
   {
    "duration": 17,
    "start_time": "2022-01-20T03:38:10.297Z"
   },
   {
    "duration": 20,
    "start_time": "2022-01-20T03:38:10.316Z"
   },
   {
    "duration": 3,
    "start_time": "2022-01-20T03:38:10.338Z"
   },
   {
    "duration": 14,
    "start_time": "2022-01-20T03:38:10.342Z"
   },
   {
    "duration": 3,
    "start_time": "2022-01-20T03:38:10.358Z"
   },
   {
    "duration": 19,
    "start_time": "2022-01-20T03:38:10.363Z"
   },
   {
    "duration": 15,
    "start_time": "2022-01-20T03:38:10.412Z"
   },
   {
    "duration": 22,
    "start_time": "2022-01-20T03:38:10.428Z"
   },
   {
    "duration": 62,
    "start_time": "2022-01-20T03:38:10.451Z"
   },
   {
    "duration": 55,
    "start_time": "2022-01-20T03:38:10.527Z"
   },
   {
    "duration": 43,
    "start_time": "2022-01-20T03:38:10.584Z"
   },
   {
    "duration": 36,
    "start_time": "2022-01-20T03:38:10.629Z"
   },
   {
    "duration": 3,
    "start_time": "2022-01-20T03:38:10.667Z"
   },
   {
    "duration": 9,
    "start_time": "2022-01-20T03:38:10.671Z"
   },
   {
    "duration": 55,
    "start_time": "2022-01-20T03:38:10.682Z"
   },
   {
    "duration": 9,
    "start_time": "2022-01-20T03:38:10.739Z"
   },
   {
    "duration": 9,
    "start_time": "2022-01-20T03:38:10.749Z"
   },
   {
    "duration": 2,
    "start_time": "2022-01-20T03:38:10.760Z"
   },
   {
    "duration": 18,
    "start_time": "2022-01-20T03:38:10.764Z"
   },
   {
    "duration": 36,
    "start_time": "2022-01-20T03:38:10.783Z"
   },
   {
    "duration": 12,
    "start_time": "2022-01-20T03:38:10.821Z"
   },
   {
    "duration": 11,
    "start_time": "2022-01-20T03:38:10.835Z"
   },
   {
    "duration": 13,
    "start_time": "2022-01-20T03:38:10.847Z"
   },
   {
    "duration": 11,
    "start_time": "2022-01-20T03:38:10.862Z"
   },
   {
    "duration": 40,
    "start_time": "2022-01-20T03:38:10.875Z"
   },
   {
    "duration": 11,
    "start_time": "2022-01-20T03:38:10.916Z"
   },
   {
    "duration": 13,
    "start_time": "2022-01-20T03:38:10.929Z"
   },
   {
    "duration": 3,
    "start_time": "2022-01-20T03:38:10.944Z"
   },
   {
    "duration": 20,
    "start_time": "2022-01-20T03:38:10.949Z"
   },
   {
    "duration": 2,
    "start_time": "2022-01-20T03:38:55.885Z"
   },
   {
    "duration": 130,
    "start_time": "2022-01-20T03:38:55.892Z"
   },
   {
    "duration": 11,
    "start_time": "2022-01-20T03:38:56.024Z"
   },
   {
    "duration": 21,
    "start_time": "2022-01-20T03:38:56.037Z"
   },
   {
    "duration": 3,
    "start_time": "2022-01-20T03:38:56.060Z"
   },
   {
    "duration": 19,
    "start_time": "2022-01-20T03:38:56.064Z"
   },
   {
    "duration": 28,
    "start_time": "2022-01-20T03:38:56.084Z"
   },
   {
    "duration": 21,
    "start_time": "2022-01-20T03:38:56.114Z"
   },
   {
    "duration": 14,
    "start_time": "2022-01-20T03:38:56.137Z"
   },
   {
    "duration": 18,
    "start_time": "2022-01-20T03:38:56.153Z"
   },
   {
    "duration": 74,
    "start_time": "2022-01-20T03:38:56.173Z"
   },
   {
    "duration": 70,
    "start_time": "2022-01-20T03:38:56.248Z"
   },
   {
    "duration": 46,
    "start_time": "2022-01-20T03:38:56.319Z"
   },
   {
    "duration": 51,
    "start_time": "2022-01-20T03:38:56.367Z"
   },
   {
    "duration": 2,
    "start_time": "2022-01-20T03:38:56.420Z"
   },
   {
    "duration": 9,
    "start_time": "2022-01-20T03:38:56.425Z"
   },
   {
    "duration": 36,
    "start_time": "2022-01-20T03:38:56.436Z"
   },
   {
    "duration": 9,
    "start_time": "2022-01-20T03:38:56.474Z"
   },
   {
    "duration": 9,
    "start_time": "2022-01-20T03:38:56.512Z"
   },
   {
    "duration": 3,
    "start_time": "2022-01-20T03:38:56.523Z"
   },
   {
    "duration": 19,
    "start_time": "2022-01-20T03:38:56.527Z"
   },
   {
    "duration": 12,
    "start_time": "2022-01-20T03:38:56.548Z"
   },
   {
    "duration": 12,
    "start_time": "2022-01-20T03:38:56.562Z"
   },
   {
    "duration": 40,
    "start_time": "2022-01-20T03:38:56.575Z"
   },
   {
    "duration": 14,
    "start_time": "2022-01-20T03:38:56.617Z"
   },
   {
    "duration": 12,
    "start_time": "2022-01-20T03:38:56.632Z"
   },
   {
    "duration": 8,
    "start_time": "2022-01-20T03:38:56.646Z"
   },
   {
    "duration": 12,
    "start_time": "2022-01-20T03:38:56.655Z"
   },
   {
    "duration": 9,
    "start_time": "2022-01-20T03:38:56.669Z"
   },
   {
    "duration": 32,
    "start_time": "2022-01-20T03:38:56.680Z"
   },
   {
    "duration": 2,
    "start_time": "2022-01-20T03:40:09.731Z"
   },
   {
    "duration": 120,
    "start_time": "2022-01-20T03:40:09.755Z"
   },
   {
    "duration": 9,
    "start_time": "2022-01-20T03:40:09.877Z"
   },
   {
    "duration": 31,
    "start_time": "2022-01-20T03:40:09.888Z"
   },
   {
    "duration": 3,
    "start_time": "2022-01-20T03:40:09.921Z"
   },
   {
    "duration": 16,
    "start_time": "2022-01-20T03:40:09.925Z"
   },
   {
    "duration": 3,
    "start_time": "2022-01-20T03:40:09.942Z"
   },
   {
    "duration": 22,
    "start_time": "2022-01-20T03:40:09.946Z"
   },
   {
    "duration": 18,
    "start_time": "2022-01-20T03:40:09.969Z"
   },
   {
    "duration": 42,
    "start_time": "2022-01-20T03:40:09.988Z"
   },
   {
    "duration": 50,
    "start_time": "2022-01-20T03:40:10.031Z"
   },
   {
    "duration": 74,
    "start_time": "2022-01-20T03:40:10.083Z"
   },
   {
    "duration": 43,
    "start_time": "2022-01-20T03:40:10.158Z"
   },
   {
    "duration": 44,
    "start_time": "2022-01-20T03:40:10.203Z"
   },
   {
    "duration": 3,
    "start_time": "2022-01-20T03:40:10.248Z"
   },
   {
    "duration": 11,
    "start_time": "2022-01-20T03:40:10.253Z"
   },
   {
    "duration": 54,
    "start_time": "2022-01-20T03:40:10.265Z"
   },
   {
    "duration": 9,
    "start_time": "2022-01-20T03:40:10.321Z"
   },
   {
    "duration": 8,
    "start_time": "2022-01-20T03:40:10.332Z"
   },
   {
    "duration": 3,
    "start_time": "2022-01-20T03:40:10.341Z"
   },
   {
    "duration": 18,
    "start_time": "2022-01-20T03:40:10.345Z"
   },
   {
    "duration": 11,
    "start_time": "2022-01-20T03:40:10.364Z"
   },
   {
    "duration": 45,
    "start_time": "2022-01-20T03:40:10.376Z"
   },
   {
    "duration": 11,
    "start_time": "2022-01-20T03:40:10.422Z"
   },
   {
    "duration": 13,
    "start_time": "2022-01-20T03:40:10.434Z"
   },
   {
    "duration": 12,
    "start_time": "2022-01-20T03:40:10.448Z"
   },
   {
    "duration": 7,
    "start_time": "2022-01-20T03:40:10.461Z"
   },
   {
    "duration": 12,
    "start_time": "2022-01-20T03:40:10.469Z"
   },
   {
    "duration": 10,
    "start_time": "2022-01-20T03:40:10.512Z"
   },
   {
    "duration": 3,
    "start_time": "2022-01-20T03:40:10.523Z"
   },
   {
    "duration": 20,
    "start_time": "2022-01-20T03:40:10.527Z"
   },
   {
    "duration": 11,
    "start_time": "2022-01-20T03:40:10.548Z"
   },
   {
    "duration": 13,
    "start_time": "2022-01-20T03:40:10.560Z"
   },
   {
    "duration": 39,
    "start_time": "2022-01-20T03:40:10.574Z"
   },
   {
    "duration": 7,
    "start_time": "2022-01-20T03:40:10.614Z"
   },
   {
    "duration": 3,
    "start_time": "2022-01-20T03:40:10.622Z"
   },
   {
    "duration": 8,
    "start_time": "2022-01-20T03:40:10.626Z"
   },
   {
    "duration": 5,
    "start_time": "2022-01-20T03:40:10.635Z"
   },
   {
    "duration": 9,
    "start_time": "2022-01-20T03:40:43.416Z"
   },
   {
    "duration": 3,
    "start_time": "2022-01-20T03:40:58.768Z"
   },
   {
    "duration": 124,
    "start_time": "2022-01-20T03:40:58.772Z"
   },
   {
    "duration": 14,
    "start_time": "2022-01-20T03:40:58.898Z"
   },
   {
    "duration": 20,
    "start_time": "2022-01-20T03:40:58.914Z"
   },
   {
    "duration": 3,
    "start_time": "2022-01-20T03:40:58.936Z"
   },
   {
    "duration": 15,
    "start_time": "2022-01-20T03:40:58.940Z"
   },
   {
    "duration": 3,
    "start_time": "2022-01-20T03:40:58.957Z"
   },
   {
    "duration": 21,
    "start_time": "2022-01-20T03:40:58.962Z"
   },
   {
    "duration": 39,
    "start_time": "2022-01-20T03:40:58.985Z"
   },
   {
    "duration": 19,
    "start_time": "2022-01-20T03:40:59.026Z"
   },
   {
    "duration": 47,
    "start_time": "2022-01-20T03:40:59.046Z"
   },
   {
    "duration": 53,
    "start_time": "2022-01-20T03:40:59.125Z"
   },
   {
    "duration": 41,
    "start_time": "2022-01-20T03:40:59.180Z"
   },
   {
    "duration": 36,
    "start_time": "2022-01-20T03:40:59.223Z"
   },
   {
    "duration": 3,
    "start_time": "2022-01-20T03:40:59.260Z"
   },
   {
    "duration": 11,
    "start_time": "2022-01-20T03:40:59.265Z"
   },
   {
    "duration": 46,
    "start_time": "2022-01-20T03:40:59.278Z"
   },
   {
    "duration": 9,
    "start_time": "2022-01-20T03:40:59.326Z"
   },
   {
    "duration": 8,
    "start_time": "2022-01-20T03:40:59.337Z"
   },
   {
    "duration": 3,
    "start_time": "2022-01-20T03:40:59.386Z"
   },
   {
    "duration": 15,
    "start_time": "2022-01-20T03:40:59.406Z"
   },
   {
    "duration": 11,
    "start_time": "2022-01-20T03:40:59.422Z"
   },
   {
    "duration": 12,
    "start_time": "2022-01-20T03:40:59.435Z"
   },
   {
    "duration": 11,
    "start_time": "2022-01-20T03:40:59.448Z"
   },
   {
    "duration": 13,
    "start_time": "2022-01-20T03:40:59.460Z"
   },
   {
    "duration": 40,
    "start_time": "2022-01-20T03:40:59.474Z"
   },
   {
    "duration": 6,
    "start_time": "2022-01-20T03:40:59.516Z"
   },
   {
    "duration": 12,
    "start_time": "2022-01-20T03:40:59.524Z"
   },
   {
    "duration": 8,
    "start_time": "2022-01-20T03:40:59.537Z"
   },
   {
    "duration": 4,
    "start_time": "2022-01-20T03:40:59.571Z"
   },
   {
    "duration": 22,
    "start_time": "2022-01-20T03:40:59.576Z"
   },
   {
    "duration": 10,
    "start_time": "2022-01-20T03:40:59.608Z"
   },
   {
    "duration": 13,
    "start_time": "2022-01-20T03:40:59.627Z"
   },
   {
    "duration": 10,
    "start_time": "2022-01-20T03:40:59.641Z"
   },
   {
    "duration": 7,
    "start_time": "2022-01-20T03:40:59.741Z"
   },
   {
    "duration": 4,
    "start_time": "2022-01-20T03:40:59.750Z"
   },
   {
    "duration": 5,
    "start_time": "2022-01-20T03:40:59.767Z"
   },
   {
    "duration": 4,
    "start_time": "2022-01-20T03:40:59.774Z"
   },
   {
    "duration": 2,
    "start_time": "2022-01-20T03:41:22.714Z"
   },
   {
    "duration": 117,
    "start_time": "2022-01-20T03:41:22.783Z"
   },
   {
    "duration": 13,
    "start_time": "2022-01-20T03:41:22.902Z"
   },
   {
    "duration": 21,
    "start_time": "2022-01-20T03:41:22.917Z"
   },
   {
    "duration": 4,
    "start_time": "2022-01-20T03:41:22.939Z"
   },
   {
    "duration": 16,
    "start_time": "2022-01-20T03:41:22.945Z"
   },
   {
    "duration": 4,
    "start_time": "2022-01-20T03:41:23.075Z"
   },
   {
    "duration": 22,
    "start_time": "2022-01-20T03:41:23.080Z"
   },
   {
    "duration": 15,
    "start_time": "2022-01-20T03:41:23.133Z"
   },
   {
    "duration": 20,
    "start_time": "2022-01-20T03:41:23.194Z"
   },
   {
    "duration": 47,
    "start_time": "2022-01-20T03:41:23.264Z"
   },
   {
    "duration": 50,
    "start_time": "2022-01-20T03:41:23.313Z"
   },
   {
    "duration": 53,
    "start_time": "2022-01-20T03:41:23.365Z"
   },
   {
    "duration": 35,
    "start_time": "2022-01-20T03:41:23.420Z"
   },
   {
    "duration": 2,
    "start_time": "2022-01-20T03:41:23.456Z"
   },
   {
    "duration": 9,
    "start_time": "2022-01-20T03:41:23.460Z"
   },
   {
    "duration": 50,
    "start_time": "2022-01-20T03:41:23.471Z"
   },
   {
    "duration": 9,
    "start_time": "2022-01-20T03:41:23.575Z"
   },
   {
    "duration": 9,
    "start_time": "2022-01-20T03:41:23.586Z"
   },
   {
    "duration": 3,
    "start_time": "2022-01-20T03:41:23.845Z"
   },
   {
    "duration": 17,
    "start_time": "2022-01-20T03:41:24.005Z"
   },
   {
    "duration": 18,
    "start_time": "2022-01-20T03:41:24.025Z"
   },
   {
    "duration": 13,
    "start_time": "2022-01-20T03:41:24.094Z"
   },
   {
    "duration": 14,
    "start_time": "2022-01-20T03:41:24.294Z"
   },
   {
    "duration": 14,
    "start_time": "2022-01-20T03:41:24.309Z"
   },
   {
    "duration": 14,
    "start_time": "2022-01-20T03:41:24.904Z"
   },
   {
    "duration": 7,
    "start_time": "2022-01-20T03:41:25.235Z"
   },
   {
    "duration": 12,
    "start_time": "2022-01-20T03:41:25.244Z"
   },
   {
    "duration": 9,
    "start_time": "2022-01-20T03:41:25.258Z"
   },
   {
    "duration": 3,
    "start_time": "2022-01-20T03:41:25.285Z"
   },
   {
    "duration": 18,
    "start_time": "2022-01-20T03:41:25.495Z"
   },
   {
    "duration": 11,
    "start_time": "2022-01-20T03:41:25.522Z"
   },
   {
    "duration": 16,
    "start_time": "2022-01-20T03:41:28.715Z"
   },
   {
    "duration": 11,
    "start_time": "2022-01-20T03:41:28.732Z"
   },
   {
    "duration": 7,
    "start_time": "2022-01-20T03:41:28.754Z"
   },
   {
    "duration": 7,
    "start_time": "2022-01-20T03:41:28.763Z"
   },
   {
    "duration": 6,
    "start_time": "2022-01-20T03:41:28.936Z"
   },
   {
    "duration": 6,
    "start_time": "2022-01-20T03:41:28.943Z"
   },
   {
    "duration": 819,
    "start_time": "2022-01-20T10:54:28.337Z"
   },
   {
    "duration": 202,
    "start_time": "2022-01-20T10:54:29.158Z"
   },
   {
    "duration": 27,
    "start_time": "2022-01-20T10:54:29.363Z"
   },
   {
    "duration": 33,
    "start_time": "2022-01-20T10:54:29.394Z"
   },
   {
    "duration": 5,
    "start_time": "2022-01-20T10:54:29.431Z"
   },
   {
    "duration": 53,
    "start_time": "2022-01-20T10:54:29.439Z"
   },
   {
    "duration": 7,
    "start_time": "2022-01-20T10:54:29.495Z"
   },
   {
    "duration": 62,
    "start_time": "2022-01-20T10:54:29.508Z"
   },
   {
    "duration": 22,
    "start_time": "2022-01-20T10:54:29.573Z"
   },
   {
    "duration": 30,
    "start_time": "2022-01-20T10:54:29.598Z"
   },
   {
    "duration": 125,
    "start_time": "2022-01-20T10:54:29.630Z"
   },
   {
    "duration": 112,
    "start_time": "2022-01-20T10:54:29.758Z"
   },
   {
    "duration": 78,
    "start_time": "2022-01-20T10:54:29.873Z"
   },
   {
    "duration": 60,
    "start_time": "2022-01-20T10:54:29.969Z"
   },
   {
    "duration": 5,
    "start_time": "2022-01-20T10:54:30.031Z"
   },
   {
    "duration": 40,
    "start_time": "2022-01-20T10:54:30.038Z"
   },
   {
    "duration": 60,
    "start_time": "2022-01-20T10:54:30.081Z"
   },
   {
    "duration": 40,
    "start_time": "2022-01-20T10:54:30.143Z"
   },
   {
    "duration": 23,
    "start_time": "2022-01-20T10:54:30.186Z"
   },
   {
    "duration": 5,
    "start_time": "2022-01-20T10:54:30.211Z"
   },
   {
    "duration": 52,
    "start_time": "2022-01-20T10:54:30.219Z"
   },
   {
    "duration": 19,
    "start_time": "2022-01-20T10:54:30.274Z"
   },
   {
    "duration": 33,
    "start_time": "2022-01-20T10:54:30.298Z"
   },
   {
    "duration": 36,
    "start_time": "2022-01-20T10:54:30.334Z"
   },
   {
    "duration": 25,
    "start_time": "2022-01-20T10:54:30.373Z"
   },
   {
    "duration": 23,
    "start_time": "2022-01-20T10:54:30.401Z"
   },
   {
    "duration": 42,
    "start_time": "2022-01-20T10:54:30.427Z"
   },
   {
    "duration": 29,
    "start_time": "2022-01-20T10:54:30.471Z"
   },
   {
    "duration": 43,
    "start_time": "2022-01-20T10:54:30.503Z"
   },
   {
    "duration": 8,
    "start_time": "2022-01-20T10:54:30.549Z"
   },
   {
    "duration": 68,
    "start_time": "2022-01-20T10:54:30.560Z"
   },
   {
    "duration": 21,
    "start_time": "2022-01-20T10:54:30.630Z"
   },
   {
    "duration": 37,
    "start_time": "2022-01-20T10:54:30.654Z"
   },
   {
    "duration": 31,
    "start_time": "2022-01-20T10:54:30.694Z"
   },
   {
    "duration": 11,
    "start_time": "2022-01-20T10:54:30.727Z"
   },
   {
    "duration": 40,
    "start_time": "2022-01-20T10:54:30.740Z"
   },
   {
    "duration": 23,
    "start_time": "2022-01-20T10:54:30.782Z"
   },
   {
    "duration": 19,
    "start_time": "2022-01-20T10:54:30.808Z"
   },
   {
    "duration": 851,
    "start_time": "2022-01-20T10:56:50.697Z"
   },
   {
    "duration": 191,
    "start_time": "2022-01-20T10:56:51.551Z"
   },
   {
    "duration": 31,
    "start_time": "2022-01-20T10:56:51.745Z"
   },
   {
    "duration": 36,
    "start_time": "2022-01-20T10:56:51.780Z"
   },
   {
    "duration": 8,
    "start_time": "2022-01-20T10:56:51.819Z"
   },
   {
    "duration": 65,
    "start_time": "2022-01-20T10:56:51.829Z"
   },
   {
    "duration": 8,
    "start_time": "2022-01-20T10:56:51.896Z"
   },
   {
    "duration": 61,
    "start_time": "2022-01-20T10:56:51.908Z"
   },
   {
    "duration": 25,
    "start_time": "2022-01-20T10:56:51.972Z"
   },
   {
    "duration": 30,
    "start_time": "2022-01-20T10:56:52.000Z"
   },
   {
    "duration": 114,
    "start_time": "2022-01-20T10:56:52.032Z"
   },
   {
    "duration": 136,
    "start_time": "2022-01-20T10:56:52.148Z"
   },
   {
    "duration": 90,
    "start_time": "2022-01-20T10:56:52.286Z"
   },
   {
    "duration": 56,
    "start_time": "2022-01-20T10:56:52.378Z"
   },
   {
    "duration": 5,
    "start_time": "2022-01-20T10:56:52.438Z"
   },
   {
    "duration": 38,
    "start_time": "2022-01-20T10:56:52.445Z"
   },
   {
    "duration": 61,
    "start_time": "2022-01-20T10:56:52.485Z"
   },
   {
    "duration": 14,
    "start_time": "2022-01-20T10:56:52.569Z"
   },
   {
    "duration": 14,
    "start_time": "2022-01-20T10:56:52.586Z"
   },
   {
    "duration": 5,
    "start_time": "2022-01-20T10:56:52.602Z"
   },
   {
    "duration": 61,
    "start_time": "2022-01-20T10:56:52.610Z"
   },
   {
    "duration": 21,
    "start_time": "2022-01-20T10:56:52.673Z"
   },
   {
    "duration": 20,
    "start_time": "2022-01-20T10:56:52.699Z"
   },
   {
    "duration": 52,
    "start_time": "2022-01-20T10:56:52.722Z"
   },
   {
    "duration": 22,
    "start_time": "2022-01-20T10:56:52.777Z"
   },
   {
    "duration": 19,
    "start_time": "2022-01-20T10:56:52.802Z"
   },
   {
    "duration": 11,
    "start_time": "2022-01-20T10:56:52.824Z"
   },
   {
    "duration": 50,
    "start_time": "2022-01-20T10:56:52.838Z"
   },
   {
    "duration": 18,
    "start_time": "2022-01-20T10:56:52.891Z"
   },
   {
    "duration": 7,
    "start_time": "2022-01-20T10:56:52.912Z"
   },
   {
    "duration": 64,
    "start_time": "2022-01-20T10:56:52.922Z"
   },
   {
    "duration": 16,
    "start_time": "2022-01-20T10:56:52.989Z"
   },
   {
    "duration": 24,
    "start_time": "2022-01-20T10:56:53.008Z"
   },
   {
    "duration": 45,
    "start_time": "2022-01-20T10:56:53.035Z"
   },
   {
    "duration": 10,
    "start_time": "2022-01-20T10:56:53.082Z"
   },
   {
    "duration": 6,
    "start_time": "2022-01-20T10:56:53.095Z"
   },
   {
    "duration": 10,
    "start_time": "2022-01-20T10:56:53.103Z"
   },
   {
    "duration": 6,
    "start_time": "2022-01-20T10:56:53.115Z"
   }
  ],
  "colab": {
   "collapsed_sections": [
    "E0vqbgi9ay0H",
    "VUC88oWjTJw2"
   ],
   "name": "yandex_music_project_2021.2.ipynb",
   "provenance": []
  },
  "kernelspec": {
   "display_name": "Python 3 (ipykernel)",
   "language": "python",
   "name": "python3"
  },
  "language_info": {
   "codemirror_mode": {
    "name": "ipython",
    "version": 3
   },
   "file_extension": ".py",
   "mimetype": "text/x-python",
   "name": "python",
   "nbconvert_exporter": "python",
   "pygments_lexer": "ipython3",
   "version": "3.9.5"
  },
  "toc": {
   "base_numbering": 1,
   "nav_menu": {},
   "number_sections": true,
   "sideBar": true,
   "skip_h1_title": true,
   "title_cell": "Table of Contents",
   "title_sidebar": "Contents",
   "toc_cell": false,
   "toc_position": {},
   "toc_section_display": true,
   "toc_window_display": true
  }
 },
 "nbformat": 4,
 "nbformat_minor": 1
}
